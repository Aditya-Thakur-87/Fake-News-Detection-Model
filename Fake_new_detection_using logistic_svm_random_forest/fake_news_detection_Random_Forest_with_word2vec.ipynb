{
  "cells": [
    {
      "cell_type": "code",
      "execution_count": null,
      "metadata": {
        "_cell_guid": "b1076dfc-b9ad-4769-8c92-a6c4dae69d19",
        "_uuid": "8f2839f25d086af736a60e9eeb907d3b93b6e0e5",
        "id": "5es2iAs-P6bC"
      },
      "outputs": [],
      "source": [
        "# This Python 3 environment comes with many helpful analytics libraries installed\n",
        "# It is defined by the kaggle/python Docker image: https://github.com/kaggle/docker-python\n",
        "# For example, here's several helpful packages to load\n",
        "\n",
        "import numpy as np # linear algebra\n",
        "import pandas as pd # data processing, CSV file I/O (e.g. pd.read_csv)\n",
        "\n",
        "# Input data files are available in the read-only \"../input/\" directory\n",
        "# For example, running this (by clicking run or pressing Shift+Enter) will list all files under the input directory\n",
        "\n",
        "import os\n",
        "for dirname, _, filenames in os.walk('/kaggle/input'):\n",
        "    for filename in filenames:\n",
        "        print(os.path.join(dirname, filename))\n",
        "\n",
        "# You can write up to 20GB to the current directory (/kaggle/working/) that gets preserved as output when you create a version using \"Save & Run All\"\n",
        "# You can also write temporary files to /kaggle/temp/, but they won't be saved outside of the current session"
      ]
    },
    {
      "cell_type": "code",
      "execution_count": null,
      "metadata": {
        "colab": {
          "base_uri": "https://localhost:8080/",
          "height": 356
        },
        "collapsed": true,
        "id": "vcdm5gEdP6bE",
        "outputId": "7b033474-3296-4fad-8080-06eabae1b7ec"
      },
      "outputs": [
        {
          "output_type": "error",
          "ename": "FileNotFoundError",
          "evalue": "[Errno 2] No such file or directory: 'C:/Users/thaku/jupyter notebook datasets/WELFake_Dataset.csv'",
          "traceback": [
            "\u001b[0;31m---------------------------------------------------------------------------\u001b[0m",
            "\u001b[0;31mFileNotFoundError\u001b[0m                         Traceback (most recent call last)",
            "\u001b[0;32m/tmp/ipython-input-2-1715721976.py\u001b[0m in \u001b[0;36m<cell line: 0>\u001b[0;34m()\u001b[0m\n\u001b[0;32m----> 1\u001b[0;31m \u001b[0mdata\u001b[0m \u001b[0;34m=\u001b[0m \u001b[0mpd\u001b[0m\u001b[0;34m.\u001b[0m\u001b[0mread_csv\u001b[0m\u001b[0;34m(\u001b[0m\u001b[0;34m\"C:/Users/thaku/jupyter notebook datasets/WELFake_Dataset.csv\"\u001b[0m\u001b[0;34m)\u001b[0m\u001b[0;34m\u001b[0m\u001b[0;34m\u001b[0m\u001b[0m\n\u001b[0m",
            "\u001b[0;32m/usr/local/lib/python3.11/dist-packages/pandas/io/parsers/readers.py\u001b[0m in \u001b[0;36mread_csv\u001b[0;34m(filepath_or_buffer, sep, delimiter, header, names, index_col, usecols, dtype, engine, converters, true_values, false_values, skipinitialspace, skiprows, skipfooter, nrows, na_values, keep_default_na, na_filter, verbose, skip_blank_lines, parse_dates, infer_datetime_format, keep_date_col, date_parser, date_format, dayfirst, cache_dates, iterator, chunksize, compression, thousands, decimal, lineterminator, quotechar, quoting, doublequote, escapechar, comment, encoding, encoding_errors, dialect, on_bad_lines, delim_whitespace, low_memory, memory_map, float_precision, storage_options, dtype_backend)\u001b[0m\n\u001b[1;32m   1024\u001b[0m     \u001b[0mkwds\u001b[0m\u001b[0;34m.\u001b[0m\u001b[0mupdate\u001b[0m\u001b[0;34m(\u001b[0m\u001b[0mkwds_defaults\u001b[0m\u001b[0;34m)\u001b[0m\u001b[0;34m\u001b[0m\u001b[0;34m\u001b[0m\u001b[0m\n\u001b[1;32m   1025\u001b[0m \u001b[0;34m\u001b[0m\u001b[0m\n\u001b[0;32m-> 1026\u001b[0;31m     \u001b[0;32mreturn\u001b[0m \u001b[0m_read\u001b[0m\u001b[0;34m(\u001b[0m\u001b[0mfilepath_or_buffer\u001b[0m\u001b[0;34m,\u001b[0m \u001b[0mkwds\u001b[0m\u001b[0;34m)\u001b[0m\u001b[0;34m\u001b[0m\u001b[0;34m\u001b[0m\u001b[0m\n\u001b[0m\u001b[1;32m   1027\u001b[0m \u001b[0;34m\u001b[0m\u001b[0m\n\u001b[1;32m   1028\u001b[0m \u001b[0;34m\u001b[0m\u001b[0m\n",
            "\u001b[0;32m/usr/local/lib/python3.11/dist-packages/pandas/io/parsers/readers.py\u001b[0m in \u001b[0;36m_read\u001b[0;34m(filepath_or_buffer, kwds)\u001b[0m\n\u001b[1;32m    618\u001b[0m \u001b[0;34m\u001b[0m\u001b[0m\n\u001b[1;32m    619\u001b[0m     \u001b[0;31m# Create the parser.\u001b[0m\u001b[0;34m\u001b[0m\u001b[0;34m\u001b[0m\u001b[0m\n\u001b[0;32m--> 620\u001b[0;31m     \u001b[0mparser\u001b[0m \u001b[0;34m=\u001b[0m \u001b[0mTextFileReader\u001b[0m\u001b[0;34m(\u001b[0m\u001b[0mfilepath_or_buffer\u001b[0m\u001b[0;34m,\u001b[0m \u001b[0;34m**\u001b[0m\u001b[0mkwds\u001b[0m\u001b[0;34m)\u001b[0m\u001b[0;34m\u001b[0m\u001b[0;34m\u001b[0m\u001b[0m\n\u001b[0m\u001b[1;32m    621\u001b[0m \u001b[0;34m\u001b[0m\u001b[0m\n\u001b[1;32m    622\u001b[0m     \u001b[0;32mif\u001b[0m \u001b[0mchunksize\u001b[0m \u001b[0;32mor\u001b[0m \u001b[0miterator\u001b[0m\u001b[0;34m:\u001b[0m\u001b[0;34m\u001b[0m\u001b[0;34m\u001b[0m\u001b[0m\n",
            "\u001b[0;32m/usr/local/lib/python3.11/dist-packages/pandas/io/parsers/readers.py\u001b[0m in \u001b[0;36m__init__\u001b[0;34m(self, f, engine, **kwds)\u001b[0m\n\u001b[1;32m   1618\u001b[0m \u001b[0;34m\u001b[0m\u001b[0m\n\u001b[1;32m   1619\u001b[0m         \u001b[0mself\u001b[0m\u001b[0;34m.\u001b[0m\u001b[0mhandles\u001b[0m\u001b[0;34m:\u001b[0m \u001b[0mIOHandles\u001b[0m \u001b[0;34m|\u001b[0m \u001b[0;32mNone\u001b[0m \u001b[0;34m=\u001b[0m \u001b[0;32mNone\u001b[0m\u001b[0;34m\u001b[0m\u001b[0;34m\u001b[0m\u001b[0m\n\u001b[0;32m-> 1620\u001b[0;31m         \u001b[0mself\u001b[0m\u001b[0;34m.\u001b[0m\u001b[0m_engine\u001b[0m \u001b[0;34m=\u001b[0m \u001b[0mself\u001b[0m\u001b[0;34m.\u001b[0m\u001b[0m_make_engine\u001b[0m\u001b[0;34m(\u001b[0m\u001b[0mf\u001b[0m\u001b[0;34m,\u001b[0m \u001b[0mself\u001b[0m\u001b[0;34m.\u001b[0m\u001b[0mengine\u001b[0m\u001b[0;34m)\u001b[0m\u001b[0;34m\u001b[0m\u001b[0;34m\u001b[0m\u001b[0m\n\u001b[0m\u001b[1;32m   1621\u001b[0m \u001b[0;34m\u001b[0m\u001b[0m\n\u001b[1;32m   1622\u001b[0m     \u001b[0;32mdef\u001b[0m \u001b[0mclose\u001b[0m\u001b[0;34m(\u001b[0m\u001b[0mself\u001b[0m\u001b[0;34m)\u001b[0m \u001b[0;34m->\u001b[0m \u001b[0;32mNone\u001b[0m\u001b[0;34m:\u001b[0m\u001b[0;34m\u001b[0m\u001b[0;34m\u001b[0m\u001b[0m\n",
            "\u001b[0;32m/usr/local/lib/python3.11/dist-packages/pandas/io/parsers/readers.py\u001b[0m in \u001b[0;36m_make_engine\u001b[0;34m(self, f, engine)\u001b[0m\n\u001b[1;32m   1878\u001b[0m                 \u001b[0;32mif\u001b[0m \u001b[0;34m\"b\"\u001b[0m \u001b[0;32mnot\u001b[0m \u001b[0;32min\u001b[0m \u001b[0mmode\u001b[0m\u001b[0;34m:\u001b[0m\u001b[0;34m\u001b[0m\u001b[0;34m\u001b[0m\u001b[0m\n\u001b[1;32m   1879\u001b[0m                     \u001b[0mmode\u001b[0m \u001b[0;34m+=\u001b[0m \u001b[0;34m\"b\"\u001b[0m\u001b[0;34m\u001b[0m\u001b[0;34m\u001b[0m\u001b[0m\n\u001b[0;32m-> 1880\u001b[0;31m             self.handles = get_handle(\n\u001b[0m\u001b[1;32m   1881\u001b[0m                 \u001b[0mf\u001b[0m\u001b[0;34m,\u001b[0m\u001b[0;34m\u001b[0m\u001b[0;34m\u001b[0m\u001b[0m\n\u001b[1;32m   1882\u001b[0m                 \u001b[0mmode\u001b[0m\u001b[0;34m,\u001b[0m\u001b[0;34m\u001b[0m\u001b[0;34m\u001b[0m\u001b[0m\n",
            "\u001b[0;32m/usr/local/lib/python3.11/dist-packages/pandas/io/common.py\u001b[0m in \u001b[0;36mget_handle\u001b[0;34m(path_or_buf, mode, encoding, compression, memory_map, is_text, errors, storage_options)\u001b[0m\n\u001b[1;32m    871\u001b[0m         \u001b[0;32mif\u001b[0m \u001b[0mioargs\u001b[0m\u001b[0;34m.\u001b[0m\u001b[0mencoding\u001b[0m \u001b[0;32mand\u001b[0m \u001b[0;34m\"b\"\u001b[0m \u001b[0;32mnot\u001b[0m \u001b[0;32min\u001b[0m \u001b[0mioargs\u001b[0m\u001b[0;34m.\u001b[0m\u001b[0mmode\u001b[0m\u001b[0;34m:\u001b[0m\u001b[0;34m\u001b[0m\u001b[0;34m\u001b[0m\u001b[0m\n\u001b[1;32m    872\u001b[0m             \u001b[0;31m# Encoding\u001b[0m\u001b[0;34m\u001b[0m\u001b[0;34m\u001b[0m\u001b[0m\n\u001b[0;32m--> 873\u001b[0;31m             handle = open(\n\u001b[0m\u001b[1;32m    874\u001b[0m                 \u001b[0mhandle\u001b[0m\u001b[0;34m,\u001b[0m\u001b[0;34m\u001b[0m\u001b[0;34m\u001b[0m\u001b[0m\n\u001b[1;32m    875\u001b[0m                 \u001b[0mioargs\u001b[0m\u001b[0;34m.\u001b[0m\u001b[0mmode\u001b[0m\u001b[0;34m,\u001b[0m\u001b[0;34m\u001b[0m\u001b[0;34m\u001b[0m\u001b[0m\n",
            "\u001b[0;31mFileNotFoundError\u001b[0m: [Errno 2] No such file or directory: 'C:/Users/thaku/jupyter notebook datasets/WELFake_Dataset.csv'"
          ]
        }
      ],
      "source": [
        "data = pd.read_csv(\"C:/Users/thaku/jupyter notebook datasets/WELFake_Dataset.csv\")"
      ]
    },
    {
      "cell_type": "code",
      "execution_count": null,
      "metadata": {
        "id": "oT5r2X2vP6bE",
        "outputId": "7b6e32de-ac44-4178-a2b4-a2b0847cf72e"
      },
      "outputs": [
        {
          "data": {
            "text/html": [
              "<div>\n",
              "<style scoped>\n",
              "    .dataframe tbody tr th:only-of-type {\n",
              "        vertical-align: middle;\n",
              "    }\n",
              "\n",
              "    .dataframe tbody tr th {\n",
              "        vertical-align: top;\n",
              "    }\n",
              "\n",
              "    .dataframe thead th {\n",
              "        text-align: right;\n",
              "    }\n",
              "</style>\n",
              "<table border=\"1\" class=\"dataframe\">\n",
              "  <thead>\n",
              "    <tr style=\"text-align: right;\">\n",
              "      <th></th>\n",
              "      <th>Unnamed: 0</th>\n",
              "      <th>title</th>\n",
              "      <th>text</th>\n",
              "      <th>label</th>\n",
              "    </tr>\n",
              "  </thead>\n",
              "  <tbody>\n",
              "    <tr>\n",
              "      <th>29274</th>\n",
              "      <td>29274</td>\n",
              "      <td>Democrats link guns to terrorism, turn to gun ...</td>\n",
              "      <td>WASHINGTON (Reuters) - President Barack Obama ...</td>\n",
              "      <td>0</td>\n",
              "    </tr>\n",
              "    <tr>\n",
              "      <th>9536</th>\n",
              "      <td>9536</td>\n",
              "      <td>BREAKING #BALTIMORE RIOT VIDEOS: REPORT Black ...</td>\n",
              "      <td>Pray for these police officers, the innocent c...</td>\n",
              "      <td>1</td>\n",
              "    </tr>\n",
              "    <tr>\n",
              "      <th>47388</th>\n",
              "      <td>47388</td>\n",
              "      <td>NaN</td>\n",
              "      <td>Wow ever notice how when a liar is caught he/s...</td>\n",
              "      <td>1</td>\n",
              "    </tr>\n",
              "    <tr>\n",
              "      <th>26474</th>\n",
              "      <td>26474</td>\n",
              "      <td>POLL: Who will win Florida? - USAPoliticsNow</td>\n",
              "      <td>Comments \\nDonald Trump has a 2 percentage poi...</td>\n",
              "      <td>1</td>\n",
              "    </tr>\n",
              "    <tr>\n",
              "      <th>938</th>\n",
              "      <td>938</td>\n",
              "      <td>MISLEADING MAINSTREAM MEDIA Is Pushing False N...</td>\n",
              "      <td>Here is Michigan elector Michael Banerian tell...</td>\n",
              "      <td>1</td>\n",
              "    </tr>\n",
              "    <tr>\n",
              "      <th>3102</th>\n",
              "      <td>3102</td>\n",
              "      <td>Five Sauces for the Modern Cook - The New York...</td>\n",
              "      <td>Without apology or even a trace of sheepishnes...</td>\n",
              "      <td>0</td>\n",
              "    </tr>\n",
              "    <tr>\n",
              "      <th>60720</th>\n",
              "      <td>60720</td>\n",
              "      <td>United Arab Emirates says to announce governme...</td>\n",
              "      <td>DUBAI (Reuters) - Sheikh Mohammed bin Rashid A...</td>\n",
              "      <td>0</td>\n",
              "    </tr>\n",
              "    <tr>\n",
              "      <th>51418</th>\n",
              "      <td>51418</td>\n",
              "      <td>UK defense minister: PM May decides on cabinet...</td>\n",
              "      <td>LONDON (Reuters) - British defense minister Ga...</td>\n",
              "      <td>0</td>\n",
              "    </tr>\n",
              "    <tr>\n",
              "      <th>68076</th>\n",
              "      <td>68076</td>\n",
              "      <td>Are Final Clubs Too Exclusive for Harvard? - T...</td>\n",
              "      <td>One midnight near semester’s end on the skirts...</td>\n",
              "      <td>0</td>\n",
              "    </tr>\n",
              "    <tr>\n",
              "      <th>41760</th>\n",
              "      <td>41760</td>\n",
              "      <td>Russian military working on deal to use Egypti...</td>\n",
              "      <td>MOSCOW (Reuters) - Russia s government publish...</td>\n",
              "      <td>0</td>\n",
              "    </tr>\n",
              "  </tbody>\n",
              "</table>\n",
              "</div>"
            ],
            "text/plain": [
              "       Unnamed: 0                                              title  \\\n",
              "29274       29274  Democrats link guns to terrorism, turn to gun ...   \n",
              "9536         9536  BREAKING #BALTIMORE RIOT VIDEOS: REPORT Black ...   \n",
              "47388       47388                                                NaN   \n",
              "26474       26474       POLL: Who will win Florida? - USAPoliticsNow   \n",
              "938           938  MISLEADING MAINSTREAM MEDIA Is Pushing False N...   \n",
              "3102         3102  Five Sauces for the Modern Cook - The New York...   \n",
              "60720       60720  United Arab Emirates says to announce governme...   \n",
              "51418       51418  UK defense minister: PM May decides on cabinet...   \n",
              "68076       68076  Are Final Clubs Too Exclusive for Harvard? - T...   \n",
              "41760       41760  Russian military working on deal to use Egypti...   \n",
              "\n",
              "                                                    text  label  \n",
              "29274  WASHINGTON (Reuters) - President Barack Obama ...      0  \n",
              "9536   Pray for these police officers, the innocent c...      1  \n",
              "47388  Wow ever notice how when a liar is caught he/s...      1  \n",
              "26474  Comments \\nDonald Trump has a 2 percentage poi...      1  \n",
              "938    Here is Michigan elector Michael Banerian tell...      1  \n",
              "3102   Without apology or even a trace of sheepishnes...      0  \n",
              "60720  DUBAI (Reuters) - Sheikh Mohammed bin Rashid A...      0  \n",
              "51418  LONDON (Reuters) - British defense minister Ga...      0  \n",
              "68076  One midnight near semester’s end on the skirts...      0  \n",
              "41760  MOSCOW (Reuters) - Russia s government publish...      0  "
            ]
          },
          "execution_count": 5,
          "metadata": {},
          "output_type": "execute_result"
        }
      ],
      "source": [
        "data.sample(n=10)"
      ]
    },
    {
      "cell_type": "code",
      "execution_count": null,
      "metadata": {
        "id": "9tVHfXwUP6bF",
        "outputId": "c506f34f-65e1-4b94-822d-d3031e97af51"
      },
      "outputs": [
        {
          "name": "stdout",
          "output_type": "stream",
          "text": [
            "<class 'pandas.core.frame.DataFrame'>\n",
            "RangeIndex: 72134 entries, 0 to 72133\n",
            "Data columns (total 4 columns):\n",
            " #   Column      Non-Null Count  Dtype \n",
            "---  ------      --------------  ----- \n",
            " 0   Unnamed: 0  72134 non-null  int64 \n",
            " 1   title       71576 non-null  object\n",
            " 2   text        72095 non-null  object\n",
            " 3   label       72134 non-null  int64 \n",
            "dtypes: int64(2), object(2)\n",
            "memory usage: 2.2+ MB\n"
          ]
        }
      ],
      "source": [
        "data.info()"
      ]
    },
    {
      "cell_type": "code",
      "execution_count": null,
      "metadata": {
        "id": "bXDIdAkSP6bF"
      },
      "outputs": [],
      "source": [
        "data.drop(\"Unnamed: 0\",axis=1,inplace=True)"
      ]
    },
    {
      "cell_type": "code",
      "execution_count": null,
      "metadata": {
        "id": "G4Y8dmIEP6bF",
        "outputId": "e7c8fbc1-5472-4b98-c18f-f71fd6558860"
      },
      "outputs": [
        {
          "data": {
            "text/html": [
              "<div>\n",
              "<style scoped>\n",
              "    .dataframe tbody tr th:only-of-type {\n",
              "        vertical-align: middle;\n",
              "    }\n",
              "\n",
              "    .dataframe tbody tr th {\n",
              "        vertical-align: top;\n",
              "    }\n",
              "\n",
              "    .dataframe thead th {\n",
              "        text-align: right;\n",
              "    }\n",
              "</style>\n",
              "<table border=\"1\" class=\"dataframe\">\n",
              "  <thead>\n",
              "    <tr style=\"text-align: right;\">\n",
              "      <th></th>\n",
              "      <th>title</th>\n",
              "      <th>text</th>\n",
              "      <th>label</th>\n",
              "    </tr>\n",
              "  </thead>\n",
              "  <tbody>\n",
              "    <tr>\n",
              "      <th>0</th>\n",
              "      <td>LAW ENFORCEMENT ON HIGH ALERT Following Threat...</td>\n",
              "      <td>No comment is expected from Barack Obama Membe...</td>\n",
              "      <td>1</td>\n",
              "    </tr>\n",
              "    <tr>\n",
              "      <th>1</th>\n",
              "      <td>NaN</td>\n",
              "      <td>Did they post their votes for Hillary already?</td>\n",
              "      <td>1</td>\n",
              "    </tr>\n",
              "    <tr>\n",
              "      <th>2</th>\n",
              "      <td>UNBELIEVABLE! OBAMA’S ATTORNEY GENERAL SAYS MO...</td>\n",
              "      <td>Now, most of the demonstrators gathered last ...</td>\n",
              "      <td>1</td>\n",
              "    </tr>\n",
              "    <tr>\n",
              "      <th>3</th>\n",
              "      <td>Bobby Jindal, raised Hindu, uses story of Chri...</td>\n",
              "      <td>A dozen politically active pastors came here f...</td>\n",
              "      <td>0</td>\n",
              "    </tr>\n",
              "    <tr>\n",
              "      <th>4</th>\n",
              "      <td>SATAN 2: Russia unvelis an image of its terrif...</td>\n",
              "      <td>The RS-28 Sarmat missile, dubbed Satan 2, will...</td>\n",
              "      <td>1</td>\n",
              "    </tr>\n",
              "  </tbody>\n",
              "</table>\n",
              "</div>"
            ],
            "text/plain": [
              "                                               title  \\\n",
              "0  LAW ENFORCEMENT ON HIGH ALERT Following Threat...   \n",
              "1                                                NaN   \n",
              "2  UNBELIEVABLE! OBAMA’S ATTORNEY GENERAL SAYS MO...   \n",
              "3  Bobby Jindal, raised Hindu, uses story of Chri...   \n",
              "4  SATAN 2: Russia unvelis an image of its terrif...   \n",
              "\n",
              "                                                text  label  \n",
              "0  No comment is expected from Barack Obama Membe...      1  \n",
              "1     Did they post their votes for Hillary already?      1  \n",
              "2   Now, most of the demonstrators gathered last ...      1  \n",
              "3  A dozen politically active pastors came here f...      0  \n",
              "4  The RS-28 Sarmat missile, dubbed Satan 2, will...      1  "
            ]
          },
          "execution_count": 8,
          "metadata": {},
          "output_type": "execute_result"
        }
      ],
      "source": [
        "data.head()"
      ]
    },
    {
      "cell_type": "code",
      "execution_count": null,
      "metadata": {
        "id": "5IjXFJixP6bF",
        "outputId": "f11305cf-e2a0-4693-af86-7bb844a186d9"
      },
      "outputs": [
        {
          "data": {
            "text/plain": [
              "Unnamed: 0      0\n",
              "title         558\n",
              "text           39\n",
              "label           0\n",
              "dtype: int64"
            ]
          },
          "execution_count": 15,
          "metadata": {},
          "output_type": "execute_result"
        }
      ],
      "source": [
        "data.isnull().sum()"
      ]
    },
    {
      "cell_type": "code",
      "execution_count": null,
      "metadata": {
        "id": "mPiKtn6iP6bG"
      },
      "outputs": [],
      "source": [
        "data.dropna(axis=0,inplace=True)"
      ]
    },
    {
      "cell_type": "code",
      "execution_count": null,
      "metadata": {
        "id": "cjuEkeeCP6bG",
        "outputId": "09b9ca06-2886-4a8b-f0d5-62a4be8118bc"
      },
      "outputs": [
        {
          "data": {
            "text/plain": [
              "np.int64(0)"
            ]
          },
          "execution_count": 17,
          "metadata": {},
          "output_type": "execute_result"
        }
      ],
      "source": [
        "data.duplicated().sum()"
      ]
    },
    {
      "cell_type": "code",
      "execution_count": null,
      "metadata": {
        "id": "HX-hpRjrP6bG"
      },
      "outputs": [],
      "source": [
        "data.drop_duplicates(inplace=True)"
      ]
    },
    {
      "cell_type": "code",
      "execution_count": null,
      "metadata": {
        "id": "SxwR8WrdP6bG",
        "outputId": "4e213b42-399a-4142-937d-c87fa623fcfa"
      },
      "outputs": [
        {
          "name": "stdout",
          "output_type": "stream",
          "text": [
            "<class 'pandas.core.frame.DataFrame'>\n",
            "Index: 63121 entries, 0 to 72132\n",
            "Data columns (total 3 columns):\n",
            " #   Column  Non-Null Count  Dtype \n",
            "---  ------  --------------  ----- \n",
            " 0   title   63121 non-null  object\n",
            " 1   text    63121 non-null  object\n",
            " 2   label   63121 non-null  int64 \n",
            "dtypes: int64(1), object(2)\n",
            "memory usage: 1.9+ MB\n"
          ]
        }
      ],
      "source": [
        "data.info()"
      ]
    },
    {
      "cell_type": "code",
      "execution_count": null,
      "metadata": {
        "id": "gr9gjea1P6bG",
        "outputId": "35f1bd98-d104-4d25-cc8e-22d18aa567f7"
      },
      "outputs": [
        {
          "data": {
            "text/plain": [
              "title    0\n",
              "text     0\n",
              "label    0\n",
              "dtype: int64"
            ]
          },
          "execution_count": 14,
          "metadata": {},
          "output_type": "execute_result"
        }
      ],
      "source": [
        "data.isnull().sum()"
      ]
    },
    {
      "cell_type": "code",
      "execution_count": null,
      "metadata": {
        "id": "kwhiaE5lP6bH",
        "outputId": "31970782-f5a5-4ebd-8245-7591cc3d8267"
      },
      "outputs": [
        {
          "data": {
            "text/plain": [
              "array([34791, 28330])"
            ]
          },
          "execution_count": 15,
          "metadata": {},
          "output_type": "execute_result"
        }
      ],
      "source": [
        "data['label'].value_counts().values"
      ]
    },
    {
      "cell_type": "code",
      "execution_count": null,
      "metadata": {
        "id": "_oq6FI20P6bH"
      },
      "outputs": [],
      "source": [
        "import matplotlib.pyplot as plt\n",
        "import seaborn as sns"
      ]
    },
    {
      "cell_type": "code",
      "execution_count": null,
      "metadata": {
        "id": "OQJxdsJjP6bH",
        "outputId": "59c2c080-e1ae-4706-9a9c-c73e6e70b97a"
      },
      "outputs": [
        {
          "data": {
            "image/png": "[encoded data removed]",
            "text/plain": [
              "<Figure size 640x480 with 1 Axes>"
            ]
          },
          "metadata": {},
          "output_type": "display_data"
        }
      ],
      "source": [
        "ax= sns.barplot(x=data['label'].value_counts().index,y=data['label'].value_counts().values)\n",
        "plt.title(\"Target Class Distribution\")\n",
        "plt.xlabel(\"Target Classes\")\n",
        "plt.ylabel(\"Count\")\n",
        "plt.xticks(ticks=[0,1],labels=['Fake','Real'])\n",
        "plt.tight_layout()\n",
        "for i, value in enumerate(data['label'].value_counts().values):\n",
        "    ax.text(i, value + 2, str(value), ha='center', va='bottom', fontsize=10)"
      ]
    },
    {
      "cell_type": "code",
      "execution_count": null,
      "metadata": {
        "id": "bcIZYixFP6bH"
      },
      "outputs": [],
      "source": [
        "import string\n",
        "exclude =string.punctuation"
      ]
    },
    {
      "cell_type": "code",
      "execution_count": null,
      "metadata": {
        "id": "39vllqHxP6bH",
        "outputId": "d99269d1-704c-420f-9c73-7cd12ccd1e5b"
      },
      "outputs": [
        {
          "data": {
            "text/plain": [
              "'!\"#$%&\\'()*+,-./:;<=>?@[\\\\]^_`{|}~'"
            ]
          },
          "execution_count": 21,
          "metadata": {},
          "output_type": "execute_result"
        }
      ],
      "source": [
        "exclude"
      ]
    },
    {
      "cell_type": "code",
      "execution_count": null,
      "metadata": {
        "id": "jbayvPwsP6bH"
      },
      "outputs": [],
      "source": [
        "def remove_punctuation(text):\n",
        "    text=text.translate(str.maketrans('', '', exclude))\n",
        "    return text.lower().strip()"
      ]
    },
    {
      "cell_type": "code",
      "execution_count": null,
      "metadata": {
        "id": "qX_OkJJFP6bH"
      },
      "outputs": [],
      "source": [
        "data['text']=data['text'].apply(remove_punctuation)\n",
        "data['title']=data['title'].apply(remove_punctuation)"
      ]
    },
    {
      "cell_type": "code",
      "execution_count": null,
      "metadata": {
        "id": "-pgXRDHUP6bH",
        "outputId": "4933ffbb-97b4-47b2-ff9d-9b131f941c77"
      },
      "outputs": [
        {
          "data": {
            "text/html": [
              "<div>\n",
              "<style scoped>\n",
              "    .dataframe tbody tr th:only-of-type {\n",
              "        vertical-align: middle;\n",
              "    }\n",
              "\n",
              "    .dataframe tbody tr th {\n",
              "        vertical-align: top;\n",
              "    }\n",
              "\n",
              "    .dataframe thead th {\n",
              "        text-align: right;\n",
              "    }\n",
              "</style>\n",
              "<table border=\"1\" class=\"dataframe\">\n",
              "  <thead>\n",
              "    <tr style=\"text-align: right;\">\n",
              "      <th></th>\n",
              "      <th>title</th>\n",
              "      <th>text</th>\n",
              "      <th>label</th>\n",
              "    </tr>\n",
              "  </thead>\n",
              "  <tbody>\n",
              "    <tr>\n",
              "      <th>0</th>\n",
              "      <td>law enforcement on high alert following threat...</td>\n",
              "      <td>no comment is expected from barack obama membe...</td>\n",
              "      <td>1</td>\n",
              "    </tr>\n",
              "    <tr>\n",
              "      <th>2</th>\n",
              "      <td>unbelievable obama’s attorney general says mos...</td>\n",
              "      <td>now most of the demonstrators gathered last ni...</td>\n",
              "      <td>1</td>\n",
              "    </tr>\n",
              "    <tr>\n",
              "      <th>3</th>\n",
              "      <td>bobby jindal raised hindu uses story of christ...</td>\n",
              "      <td>a dozen politically active pastors came here f...</td>\n",
              "      <td>0</td>\n",
              "    </tr>\n",
              "    <tr>\n",
              "      <th>4</th>\n",
              "      <td>satan 2 russia unvelis an image of its terrify...</td>\n",
              "      <td>the rs28 sarmat missile dubbed satan 2 will re...</td>\n",
              "      <td>1</td>\n",
              "    </tr>\n",
              "    <tr>\n",
              "      <th>5</th>\n",
              "      <td>about time christian group sues amazon and spl...</td>\n",
              "      <td>all we can say on this one is it s about time ...</td>\n",
              "      <td>1</td>\n",
              "    </tr>\n",
              "  </tbody>\n",
              "</table>\n",
              "</div>"
            ],
            "text/plain": [
              "                                               title  \\\n",
              "0  law enforcement on high alert following threat...   \n",
              "2  unbelievable obama’s attorney general says mos...   \n",
              "3  bobby jindal raised hindu uses story of christ...   \n",
              "4  satan 2 russia unvelis an image of its terrify...   \n",
              "5  about time christian group sues amazon and spl...   \n",
              "\n",
              "                                                text  label  \n",
              "0  no comment is expected from barack obama membe...      1  \n",
              "2  now most of the demonstrators gathered last ni...      1  \n",
              "3  a dozen politically active pastors came here f...      0  \n",
              "4  the rs28 sarmat missile dubbed satan 2 will re...      1  \n",
              "5  all we can say on this one is it s about time ...      1  "
            ]
          },
          "execution_count": 24,
          "metadata": {},
          "output_type": "execute_result"
        }
      ],
      "source": [
        "data.head(5)"
      ]
    },
    {
      "cell_type": "code",
      "execution_count": null,
      "metadata": {
        "id": "GH2qgVNOP6bI"
      },
      "outputs": [],
      "source": [
        "from bs4 import BeautifulSoup\n",
        "\n",
        "def has_html_tags_bs(text):\n",
        "    return text != BeautifulSoup(text, \"html.parser\").get_text()"
      ]
    },
    {
      "cell_type": "code",
      "execution_count": null,
      "metadata": {
        "id": "RWsDJWDyP6bI",
        "outputId": "006b2eeb-af1c-4aaa-a70c-234204c7ceda"
      },
      "outputs": [
        {
          "name": "stdout",
          "output_type": "stream",
          "text": [
            "text\n",
            "False    63121\n",
            "Name: count, dtype: int64\n",
            "title\n",
            "False    63121\n",
            "Name: count, dtype: int64\n"
          ]
        }
      ],
      "source": [
        "check_html_text= data['text'].apply(has_html_tags_bs)\n",
        "check_html_title = data['title'].apply(has_html_tags_bs)\n",
        "print(check_html_text.value_counts())\n",
        "print(check_html_title.value_counts())"
      ]
    },
    {
      "cell_type": "code",
      "execution_count": null,
      "metadata": {
        "collapsed": true,
        "jupyter": {
          "outputs_hidden": true
        },
        "id": "hqof0hA8P6bI",
        "outputId": "275179c1-e5ca-4f89-afec-0fc9b5f9c14c"
      },
      "outputs": [
        {
          "name": "stdout",
          "output_type": "stream",
          "text": [
            "Requirement already satisfied: spacy in c:\\users\\thaku\\anaconda3\\lib\\site-packages (3.8.7)\n",
            "Requirement already satisfied: spacy-legacy<3.1.0,>=3.0.11 in c:\\users\\thaku\\anaconda3\\lib\\site-packages (from spacy) (3.0.12)\n",
            "Requirement already satisfied: spacy-loggers<2.0.0,>=1.0.0 in c:\\users\\thaku\\anaconda3\\lib\\site-packages (from spacy) (1.0.5)\n",
            "Requirement already satisfied: murmurhash<1.1.0,>=0.28.0 in c:\\users\\thaku\\anaconda3\\lib\\site-packages (from spacy) (1.0.13)\n",
            "Requirement already satisfied: cymem<2.1.0,>=2.0.2 in c:\\users\\thaku\\anaconda3\\lib\\site-packages (from spacy) (2.0.11)\n",
            "Requirement already satisfied: preshed<3.1.0,>=3.0.2 in c:\\users\\thaku\\anaconda3\\lib\\site-packages (from spacy) (3.0.10)\n",
            "Requirement already satisfied: thinc<8.4.0,>=8.3.4 in c:\\users\\thaku\\anaconda3\\lib\\site-packages (from spacy) (8.3.6)\n",
            "Requirement already satisfied: wasabi<1.2.0,>=0.9.1 in c:\\users\\thaku\\anaconda3\\lib\\site-packages (from spacy) (1.1.3)\n",
            "Requirement already satisfied: srsly<3.0.0,>=2.4.3 in c:\\users\\thaku\\anaconda3\\lib\\site-packages (from spacy) (2.5.1)\n",
            "Requirement already satisfied: catalogue<2.1.0,>=2.0.6 in c:\\users\\thaku\\anaconda3\\lib\\site-packages (from spacy) (2.0.10)\n",
            "Requirement already satisfied: weasel<0.5.0,>=0.1.0 in c:\\users\\thaku\\anaconda3\\lib\\site-packages (from spacy) (0.4.1)\n",
            "Requirement already satisfied: typer<1.0.0,>=0.3.0 in c:\\users\\thaku\\anaconda3\\lib\\site-packages (from spacy) (0.9.0)\n",
            "Requirement already satisfied: tqdm<5.0.0,>=4.38.0 in c:\\users\\thaku\\anaconda3\\lib\\site-packages (from spacy) (4.67.1)\n",
            "Requirement already satisfied: numpy>=1.19.0 in c:\\users\\thaku\\anaconda3\\lib\\site-packages (from spacy) (2.1.3)\n",
            "Requirement already satisfied: requests<3.0.0,>=2.13.0 in c:\\users\\thaku\\anaconda3\\lib\\site-packages (from spacy) (2.32.3)\n",
            "Requirement already satisfied: pydantic!=1.8,!=1.8.1,<3.0.0,>=1.7.4 in c:\\users\\thaku\\anaconda3\\lib\\site-packages (from spacy) (2.10.3)\n",
            "Requirement already satisfied: jinja2 in c:\\users\\thaku\\anaconda3\\lib\\site-packages (from spacy) (3.1.6)\n",
            "Requirement already satisfied: setuptools in c:\\users\\thaku\\anaconda3\\lib\\site-packages (from spacy) (72.1.0)\n",
            "Requirement already satisfied: packaging>=20.0 in c:\\users\\thaku\\anaconda3\\lib\\site-packages (from spacy) (24.2)\n",
            "Requirement already satisfied: langcodes<4.0.0,>=3.2.0 in c:\\users\\thaku\\anaconda3\\lib\\site-packages (from spacy) (3.5.0)\n",
            "Requirement already satisfied: language-data>=1.2 in c:\\users\\thaku\\anaconda3\\lib\\site-packages (from langcodes<4.0.0,>=3.2.0->spacy) (1.3.0)\n",
            "Requirement already satisfied: annotated-types>=0.6.0 in c:\\users\\thaku\\anaconda3\\lib\\site-packages (from pydantic!=1.8,!=1.8.1,<3.0.0,>=1.7.4->spacy) (0.6.0)\n",
            "Requirement already satisfied: pydantic-core==2.27.1 in c:\\users\\thaku\\anaconda3\\lib\\site-packages (from pydantic!=1.8,!=1.8.1,<3.0.0,>=1.7.4->spacy) (2.27.1)\n",
            "Requirement already satisfied: typing-extensions>=4.12.2 in c:\\users\\thaku\\anaconda3\\lib\\site-packages (from pydantic!=1.8,!=1.8.1,<3.0.0,>=1.7.4->spacy) (4.12.2)\n",
            "Requirement already satisfied: charset-normalizer<4,>=2 in c:\\users\\thaku\\anaconda3\\lib\\site-packages (from requests<3.0.0,>=2.13.0->spacy) (3.3.2)\n",
            "Requirement already satisfied: idna<4,>=2.5 in c:\\users\\thaku\\anaconda3\\lib\\site-packages (from requests<3.0.0,>=2.13.0->spacy) (3.7)\n",
            "Requirement already satisfied: urllib3<3,>=1.21.1 in c:\\users\\thaku\\anaconda3\\lib\\site-packages (from requests<3.0.0,>=2.13.0->spacy) (2.3.0)\n",
            "Requirement already satisfied: certifi>=2017.4.17 in c:\\users\\thaku\\anaconda3\\lib\\site-packages (from requests<3.0.0,>=2.13.0->spacy) (2025.6.15)\n",
            "Requirement already satisfied: blis<1.4.0,>=1.3.0 in c:\\users\\thaku\\anaconda3\\lib\\site-packages (from thinc<8.4.0,>=8.3.4->spacy) (1.3.0)\n",
            "Requirement already satisfied: confection<1.0.0,>=0.0.1 in c:\\users\\thaku\\anaconda3\\lib\\site-packages (from thinc<8.4.0,>=8.3.4->spacy) (0.1.5)\n",
            "Requirement already satisfied: colorama in c:\\users\\thaku\\anaconda3\\lib\\site-packages (from tqdm<5.0.0,>=4.38.0->spacy) (0.4.6)\n",
            "Requirement already satisfied: click<9.0.0,>=7.1.1 in c:\\users\\thaku\\anaconda3\\lib\\site-packages (from typer<1.0.0,>=0.3.0->spacy) (8.1.8)\n",
            "Requirement already satisfied: cloudpathlib<1.0.0,>=0.7.0 in c:\\users\\thaku\\anaconda3\\lib\\site-packages (from weasel<0.5.0,>=0.1.0->spacy) (0.21.1)\n",
            "Requirement already satisfied: smart-open<8.0.0,>=5.2.1 in c:\\users\\thaku\\anaconda3\\lib\\site-packages (from weasel<0.5.0,>=0.1.0->spacy) (7.3.0.post1)\n",
            "Requirement already satisfied: wrapt in c:\\users\\thaku\\anaconda3\\lib\\site-packages (from smart-open<8.0.0,>=5.2.1->weasel<0.5.0,>=0.1.0->spacy) (1.17.0)\n",
            "Requirement already satisfied: marisa-trie>=1.1.0 in c:\\users\\thaku\\anaconda3\\lib\\site-packages (from language-data>=1.2->langcodes<4.0.0,>=3.2.0->spacy) (1.2.1)\n",
            "Requirement already satisfied: MarkupSafe>=2.0 in c:\\users\\thaku\\anaconda3\\lib\\site-packages (from jinja2->spacy) (3.0.2)\n",
            "Note: you may need to restart the kernel to use updated packages.\n"
          ]
        }
      ],
      "source": [
        "pip install spacy"
      ]
    },
    {
      "cell_type": "code",
      "execution_count": null,
      "metadata": {
        "collapsed": true,
        "jupyter": {
          "outputs_hidden": true
        },
        "scrolled": true,
        "id": "sMA7qqVtP6bI",
        "outputId": "55323f73-910e-424b-d7b0-de4198fe67de"
      },
      "outputs": [
        {
          "name": "stdout",
          "output_type": "stream",
          "text": [
            "Collecting en-core-web-sm==3.8.0\n",
            "  Downloading https://github.com/explosion/spacy-models/releases/download/en_core_web_sm-3.8.0/en_core_web_sm-3.8.0-py3-none-any.whl (12.8 MB)\n",
            "     ---------------------------------------- 0.0/12.8 MB ? eta -:--:--\n",
            "     -- ------------------------------------- 0.8/12.8 MB 5.5 MB/s eta 0:00:03\n",
            "     ------ --------------------------------- 2.1/12.8 MB 5.3 MB/s eta 0:00:03\n",
            "     ---------- ----------------------------- 3.4/12.8 MB 5.7 MB/s eta 0:00:02\n",
            "     --------------- ------------------------ 5.0/12.8 MB 6.0 MB/s eta 0:00:02\n",
            "     ------------------- -------------------- 6.3/12.8 MB 6.2 MB/s eta 0:00:02\n",
            "     ------------------------ --------------- 7.9/12.8 MB 6.4 MB/s eta 0:00:01\n",
            "     ----------------------------- ---------- 9.4/12.8 MB 6.5 MB/s eta 0:00:01\n",
            "     --------------------------------- ------ 10.7/12.8 MB 6.5 MB/s eta 0:00:01\n",
            "     -------------------------------------- - 12.3/12.8 MB 6.6 MB/s eta 0:00:01\n",
            "     ---------------------------------------- 12.8/12.8 MB 6.5 MB/s eta 0:00:00\n",
            "\u001b[38;5;2m[+] Download and installation successful\u001b[0m\n",
            "You can now load the package via spacy.load('en_core_web_sm')\n"
          ]
        }
      ],
      "source": [
        "!python -m spacy download en_core_web_sm"
      ]
    },
    {
      "cell_type": "code",
      "execution_count": null,
      "metadata": {
        "id": "JRy9lxP9P6bI"
      },
      "outputs": [],
      "source": [
        "import spacy\n",
        "import os\n",
        "nlp = spacy.load(\"en_core_web_sm\", disable=[\"parser\", \"ner\", \"textcat\"])\n",
        "\n",
        "def batch_lemmatize(texts, batch_size=800, n_process=4):\n",
        "    results = []\n",
        "    for doc in nlp.pipe(texts, batch_size=batch_size, n_process=n_process):\n",
        "        lemmas = [\n",
        "            token.lemma_.lower() for token in doc\n",
        "            if token.is_alpha and not token.is_stop and len(token) > 2\n",
        "        ]\n",
        "        results.append(\" \".join(lemmas))\n",
        "    return results"
      ]
    },
    {
      "cell_type": "code",
      "execution_count": null,
      "metadata": {
        "id": "KW7wfCN8P6bI"
      },
      "outputs": [],
      "source": [
        "texts = data[\"text\"].astype(str).tolist()\n",
        "titles = data[\"title\"].astype(str).tolist()"
      ]
    },
    {
      "cell_type": "code",
      "execution_count": null,
      "metadata": {
        "id": "Q3rInzJ0P6bI"
      },
      "outputs": [],
      "source": [
        "data['clean_title'] = batch_lemmatize(titles)\n",
        "data['clean_text'] = batch_lemmatize(texts)"
      ]
    },
    {
      "cell_type": "code",
      "execution_count": null,
      "metadata": {
        "collapsed": true,
        "jupyter": {
          "outputs_hidden": true
        },
        "id": "gTygkgqxP6bI",
        "outputId": "9bd28c19-cc24-48a1-eccd-ffb7319789dd"
      },
      "outputs": [
        {
          "data": {
            "text/html": [
              "<div>\n",
              "<style scoped>\n",
              "    .dataframe tbody tr th:only-of-type {\n",
              "        vertical-align: middle;\n",
              "    }\n",
              "\n",
              "    .dataframe tbody tr th {\n",
              "        vertical-align: top;\n",
              "    }\n",
              "\n",
              "    .dataframe thead th {\n",
              "        text-align: right;\n",
              "    }\n",
              "</style>\n",
              "<table border=\"1\" class=\"dataframe\">\n",
              "  <thead>\n",
              "    <tr style=\"text-align: right;\">\n",
              "      <th></th>\n",
              "      <th>title</th>\n",
              "      <th>text</th>\n",
              "      <th>label</th>\n",
              "      <th>clean_title</th>\n",
              "      <th>clean_text</th>\n",
              "    </tr>\n",
              "  </thead>\n",
              "  <tbody>\n",
              "    <tr>\n",
              "      <th>0</th>\n",
              "      <td>law enforcement on high alert following threats against cops and whites on 911by blacklivesmatter and fyf911 terrorists video</td>\n",
              "      <td>no comment is expected from barack obama members of the fyf911 or fukyoflag and blacklivesmatter movements called for the lynching and hanging of white people and cops they encouraged others on a radio show tuesday night to  turn the tide  and kill white people and cops to send a message about the killing of black people in americaone of the fyoflag organizers is called  sunshine  she has a radio blog show hosted from texas called  sunshine s fing opinion radio show a snapshot of her fyf911 lolatwhitefear twitter page at 953 pm shows that she was urging supporters to  call now fyf911 tonight we continue to dismantle the illusion of white below is a snapshot twitter radio call invite   fyf911the radio show aired at 1000 pm eastern standard timeduring the show callers clearly call for  lynching  and  killing  of white peoplea 239 minute clip from the radio show can be heard here it was provided to breitbart texas by someone who would like to be referred to as  hannibal  he has already received death threats as a result of interrupting fyf911 conference callsan unidentified black man said  when those mother fkers are by themselves that s when when we should start fing them up like they do us when a bunch of them niers takin  one of us out that s how we should roll up  he said  cause we already roll up in gangs anyway there should be six or seven black mother fckers see that white person and then lynch their ass let s turn the tables they conspired that if  cops started losing people  then  there will be a state of emergency he speculated that one of two things would happen  a bigass r s war  or  niers they are going to start backin  up we are already getting killed out here so what the fk we got to lose sunshine could be heard saying  yep that s true that s so fking true he said  we need to turn the tables on them our kids are getting shot out here somebody needs to become a sacrifice on their sidehe said  everybody ain t down for that st or whatever but like i say everybody has a different position of war  he continued  because they don t give a fk anyway  he said again  we might as well utilized them for that st and turn the tables on these ners he said that way  we can start lookin  like we ain t havin  that many casualties and there can be more causalities on their side instead of ours they are out their killing black people black lives don t matter that s what those mother fkers   so we got to make it matter to them find a mother fker that is alone snap his ass and then fin hang him from a damn tree take a picture of it and then send it to the mother fkers we  just need one example  and  then people will start watchin   this will turn the tables on st he said he said this will start  a trickledown effect  he said that when one white person is hung and then they are just  flathanging  that will start the  trickledown effect  he continued  black people are good at starting trends he said that was how  to get the upperhand another black man spoke up saying they needed to kill  cops that are killing us the first black male said  that will be the best method right there breitbart texas previously reported how sunshine was upset when  racist white people  infiltrated and disrupted one of her conference calls she subsequently released the phone number of one of the infiltrators the veteran immediately started receiving threatening callsone of the fyoflag movement supporters allegedly told a veteran who infiltrated their publicly posted conference call  we are going to rape and gut your pregnant wife and your fing piece of sht unborn creature will be hung from a tree breitbart texas previously encountered sunshine at a sandra bland protest at the waller county jail in texas where she said all white people should be killed she told journalists and photographers  you see this nappyass hair on my head   that means i am one of those more militant negroes  she said she was at the protest because  these redneck motherfkers murdered sandra bland because she had nappy hair like me fyf911 black radicals say they will be holding the  imperial powers  that are actually responsible for the terrorist attacks on september 11th accountable on that day as reported by breitbart texas there are several websites and twitter handles for the movement palmetto star  describes himself as one of the head organizers he said in a youtube video that supporters will be burning their symbols of  the illusion of their superiority  their  false white supremacy  like the american flag the british flag police uniforms and ku klux klan hoodssierra mcgrone or  nocturnus libertus  posted  you too can help a young afrikan clean their a with the rag of oppression  she posted two photos one that appears to be herself and a photo of a black man wiping their naked butts with the american flagfor entire story breitbart news</td>\n",
              "      <td>1</td>\n",
              "      <td>law enforcement high alert follow threat cop white blacklivesmatter terrorist video</td>\n",
              "      <td>comment expect barack obama member fukyoflag blacklivesmatter movement call lynching hanging white people cop encourage radio tuesday night turn tide kill white people cop send message killing black people americaone fyoflag organizer call sunshine radio blog host texas call sunshine fing opinion radio snapshot lolatwhitefear twitter page show urge supporter tonight continue dismantle illusion white snapshot twitter radio invite radio air eastern standard timedure caller clearly lynching kill white peoplea minute clip radio hear provide breitbart texas like refer hannibal receive death threat result interrupt conference callsan unidentified black man say mother fker start fe like bunch nier takin roll say cause roll gang seven black mother fcker white person lynch ass let turn table conspire cop start lose people state emergency speculate thing happen bigass war nier go start backin get kill get lose sunshine hear say yep true fking true say need turn table kid get shoot somebody need sacrifice sidehe say everybody ain like everybody different position war continue don say utilize turn table ner say way start lookin like ain havin casualty causality instead kill black people black life don matter mother fker get matter find mother fker snap ass fin hang damn tree picture send mother fker need example people start watchin turn table say say start trickledown effect say white person hang flathange start trickledown effect continue black people good start trend say upperhand black man speak say need kill cop kill black male say good method right breitbart texas previously report sunshine upset racist white people infiltrate disrupt conference call subsequently release phone number infiltrator veteran immediately start receive threaten callsone fyoflag movement supporter allegedly tell veteran infiltrate publicly post conference go rape gut pregnant wife fing piece sht unborn creature hang tree breitbart texas previously encounter sunshine sandra bland protest waller county jail texas say white people kill tell journalist photographer nappyass hair head mean militant negro say protest redneck motherfker murder sandra bland nappy hair like black radical hold imperial power actually responsible terrorist attack september accountable day report breitbart texas website twitter handle movement palmetto star describe head organizer say youtube video supporter burn symbol illusion superiority false white supremacy like american flag british flag police uniform klux klan hoodssierra mcgrone nocturnus libertus post help young afrikan clean rag oppression post photo appear photo black man wipe naked butt american flagfor entire story breitbart news</td>\n",
              "    </tr>\n",
              "    <tr>\n",
              "      <th>2</th>\n",
              "      <td>unbelievable obama’s attorney general says most charlotte rioters were “peaceful” protesters…in her home state of north carolina video</td>\n",
              "      <td>now most of the demonstrators gathered last night were exercising their constitutional and protected right to peaceful protest in order to raise issues and create change    loretta lynch aka eric holder in a skirt</td>\n",
              "      <td>1</td>\n",
              "      <td>unbelievable obama attorney general say charlotte rioter peaceful protester home state north carolina video</td>\n",
              "      <td>demonstrator gather night exercise constitutional protect right peaceful protest order raise issue create change loretta lynch aka eric holder skirt</td>\n",
              "    </tr>\n",
              "    <tr>\n",
              "      <th>3</th>\n",
              "      <td>bobby jindal raised hindu uses story of christian conversion to woo evangelicals for potential 2016 bid</td>\n",
              "      <td>a dozen politically active pastors came here for a private dinner friday night to hear a conversion story unique in the context of presidential politics how louisiana gov bobby jindal traveled from hinduism to protestant christianity and ultimately became what he calls an “evangelical catholic”\\n\\nover two hours jindal 42 recalled talking with a girl in high school who wanted to “save my soul” reading the bible in a closet so his parents would not see him and feeling a stir while watching a movie during his senior year that depicted jesus on the cross\\n\\n“i was struck and struck hard” jindal told the pastors “this was the son of god and he had died for our sins”\\n\\njindal’s session with the christian clergy who lead congregations in the early presidential battleground states of iowa and south carolina was part of a behindthescenes effort by the louisiana governor to find a political base that could help propel him into the top tier of republican candidates seeking to run for the white house in 2016\\n\\nknown in gop circles mostly for his mastery of policy issues such as health care jindal a rhodes scholar and graduate of the ivy league’s brown university does not have an obvious pool of activist supporters to help drive excitement outside his home state so he is harnessing his religious experience in a way that has begun to appeal to parts of the gop’s influential core of religious conservatives many of whom have yet to find a favorite among the republicans eyeing the presidential race\\n\\nother potential 2016 gop candidates are wooing the evangelical base including sens rand paul ky and ted cruz tex and indiana gov mike pence\\n\\nbut over the weekend in lynchburg — a mecca of sorts for evangelicals as the home of liberty university founded in the 1970s by the rev jerry falwell — jindal appeared to make progress\\n\\nin addition to his dinner with the pastors he delivered a wellreceived “call to action” address to 40000 christian conservatives gathered for liberty’s commencement ceremony talking again about his faith while assailing what he said was president obama’s record of attacking religious liberty\\n\\nthe pastors who came to meet jindal said his intimate descriptions of his experiences stood out\\n\\n“he has the convictions and he has what it takes to communicate them” said brad sherman of solid rock christian church in coralville iowa sherman helped former arkansas governor mike huckabee in his winning 2008 campaign for delegates in iowa\\n\\nanother huckabee admirer the rev c mitchell brooks of second baptist church in belton sc said jindal’s commitment to christian values and his compelling story put him “on a par” with huckabee who was a baptist preacher before entering politics\\n\\nthe visiting pastors flew to lynchburg over the weekend at the invitation of the american renewal project a wellfunded nonprofit group that encourages evangelical christians to engage in the civic arena with voter guides getoutthevote drives and programs to train pastors in grassroots activism the group’s founder david lane has built a pastor network in politically important states such as iowa missouri ohio and south carolina and has led trips to israel with paul and others seeking to make inroads with evangelical activists\\n\\nthe group that lane invited to lynchburg included donald wild­mon a retired minister and founder of the american family association a prominent evangelical activist group that has influence through its network of more than 140 christian radio stations\\n\\nmost of the pastors that lane’s organization brought to lynchburg had not met jindal but they said he captured their interest recently when he stepped forward to defend phil robertson patriarch of the “duck dynasty” televisionshow family amid a controversy over disparaging remarks he made about gays in an interview with gq magazine\\n\\nthroughout his lynchburg visit jindal presented himself as a willing culture warrior\\n\\nduring his commencement address saturday he took up the cause of twin brothers whose hgtv reality series about renovating and reselling houses “flip it forward” was canceled last week after a web site revealed that they had protested against samesex marriage at the 2012 democratic national convention in charlotte\\n\\nthe siblings jason and david benham both liberty graduates attended the graduation and a private lunch with jindal who called the action against them “another demonstration of intolerance from the entertainment industry”\\n\\n“if these guys had protested at the republican party convention instead of canceling their show hgtv would probably have given them a raise” jindal said as the liberty crowd applauded\\n\\nhe cited the hobby lobby craft store chain which faced a legal challenge after refusing to provide employees with insurance coverage for contraceptives as required under the affordable care act members of the family that owns hobby lobby who have become heroes to many religious conservatives have said that they are morally opposed to the use of certain types of birth control and that they considered the requirement a violation of their first amendment right to religious freedom\\n\\nthe family was “committed to honor the lord by being generous employers paying well above minimum wage and increasing salaries four years in a row even in the midst of the enduring recession” jindal told the liberty graduates “none of this matters to the obama administration”\\n\\nbut for the pastors who came to see jindal in action the governor’s own story was the highlight of the weekend and in many ways he was unlike any other aspiring president these activists had met\\n\\npiyush jindal was born in 1971 four months after his parents arrived in baton rouge la from their native india he changed his name to bobby as a young boy adopting the name of a character on a favorite television show “the brady bunch”\\n\\nhis decision to become a christian he told the pastors did not come in one moment of lightning epiphany instead he said it happened in phases growing from small seeds planted over time\\n\\njindal recalled that his closest friend from grade school gave him a bible with his name emblazoned in gold on the cover as a christmas present it struck him initially as an unimpressive gift jindal told the pastors\\n\\n“who in the world would spend good money for a bible when everyone knows you can get one free in any hotel” he recalled thinking at the time “and the gold lettering meant i couldn’t give it away or return it”\\n\\nhis religious education reached a higher plane during his junior year in high school he told his dinner audience he wanted to ask a pretty girl on a date during a hallway conversation and she started talking about her faith in god and her opposition to abortion the girl invited him to visit her church\\n\\njindal said he was skeptical and set out to “investigate all these fanciful claims” made by the girl and other friends he started reading the bible in his closet at home “i was unsure how my parents would react” he said\\n\\nafter the stirring moment when he saw christ depicted on the cross during the religious movie the bible and his very existence suddenly seemed clearer to him jindal told the pastors\\n\\njindal did not dwell on his subsequent conversion to catholicism just a few years later in college where he said he immersed himself in the traditions of the church\\n\\nhe touched on it briefly during the commencement address noting in passing that “i am best described as an evangelical catholic” mostly he sought to showcase the ways in which he shares values with other christian conservatives\\n\\n“i read the words of jesus christ and i realized that they were true” jindal told the graduates saturday offering a less detailed accounting of his conversion than he had done the night before with the pastors “i used to think that i had found god but i believe it is more accurate to say that he found me”</td>\n",
              "      <td>0</td>\n",
              "      <td>bobby jindal raise hindu use story christian conversion woo evangelical potential bid</td>\n",
              "      <td>dozen politically active pastor come private dinner friday night hear conversion story unique context presidential politic louisiana gov bobby jindal travel hinduism protestant christianity ultimately call evangelical catholic hour jindal recall talk girl high school want save soul read bible closet parent feel stir watch movie senior year depict jesus cross strike strike hard jindal tell pastor son god die sin jindal session christian clergy lead congregation early presidential battleground state iowa south carolina behindthescene effort louisiana governor find political base help propel tier republican candidate seek run white house know gop circle mastery policy issue health care jindal rhode scholar graduate ivy league brown university obvious pool activist supporter help drive excitement outside home state harness religious experience way begin appeal part gop influential core religious conservative find favorite republicans eye presidential race potential gop candidate woo evangelical base include sen rand paul ted cruz tex indiana gov mike pence weekend lynchburg mecca sort evangelical home liberty university found rev jerry falwell jindal appear progress addition dinner pastor deliver wellreceive action address christian conservative gather liberty commencement ceremony talk faith assail say president obama record attack religious liberty pastor come meet jindal say intimate description experience stand conviction take communicate say brad sherman solid rock christian church coralville iowa sherman help arkansas governor mike huckabee win campaign delegate iowa huckabee admirer rev mitchell brooks second baptist church belton say jindal commitment christian value compelling story par huckabee baptist preacher enter politic visit pastor fly lynchburg weekend invitation american renewal project wellfunde nonprofit group encourage evangelical christian engage civic arena voter guide getoutthevote drive program train pastor grassroots activism group founder david lane build pastor network politically important state iowa missouri ohio south carolina lead trip israel paul seek inroad evangelical activist group lane invite lynchburg include donald retired minister founder american family association prominent evangelical activist group influence network christian radio station pastor lane organization bring lynchburg meet jindal say capture interest recently step forward defend phil robertson patriarch duck dynasty televisionshow family amid controversy disparage remark gay interview magazine lynchburg visit jindal present willing culture warrior commencement address saturday take cause twin brother hgtv reality series renovate resell house flip forward cancel week web site reveal protest samesex marriage democratic national convention charlotte sibling jason david benham liberty graduate attend graduation private lunch jindal call action demonstration intolerance entertainment industry guy protest republican party convention instead cancel hgtv probably give raise jindal say liberty crowd applaud cite hobby lobby craft store chain face legal challenge refuse provide employee insurance coverage contraceptive require affordable care act member family own hobby lobby hero religious conservative say morally oppose use certain type birth control consider requirement violation amendment right religious freedom family commit honor lord generous employer pay minimum wage increase salary year row midst endure recession jindal tell liberty graduate matter obama administration pastor come jindal action governor story highlight weekend way unlike aspire president activist meet piyush jindal bear month parent arrive baton rouge native india change bobby young boy adopt character favorite television brady bunch decision christian tell pastor come moment lightning epiphany instead say happen phase grow small seed plant time jindal recall close friend grade school give bible emblazon gold cover christmas present strike initially unimpressive gift jindal tell pastor world spend good money bible know free hotel recall think time gold lettering mean away return religious education reach high plane junior year high school tell dinner audience want ask pretty girl date hallway conversation start talk faith god opposition abortion girl invite visit church jindal say skeptical set investigate fanciful claim girl friend start read bible closet home unsure parent react say stirring moment see christ depict cross religious movie bible existence suddenly clear jindal tell pastor jindal dwell subsequent conversion catholicism year later college say immerse tradition church touch briefly commencement address note pass well describe evangelical catholic seek showcase way share value christian conservative read word jesus christ realize true jindal tell graduate saturday offer detailed accounting conversion night pastor think find god believe accurate find</td>\n",
              "    </tr>\n",
              "    <tr>\n",
              "      <th>4</th>\n",
              "      <td>satan 2 russia unvelis an image of its terrifying new ‘supernuke’ – western world takes notice</td>\n",
              "      <td>the rs28 sarmat missile dubbed satan 2 will replace the ss18 flies at 43 miles 7km per sec and with a range of 6213 miles 10000km the weapons are perceived as part of an increasingly aggressive russia it could deliver a warhead of 40 megatons – 2000 times as powerful as the atom bombs dropped on hiroshima and nagasaki in 1945 by libby plummer and gareth davie s russia has unveiled chilling pictures of its largest ever nuclear missile capable of destroying an area the size of france the rs28 sarmat missile dubbed satan 2 by nato has a top speed of 43 miles 7km per second and has been designed to outfox antimissile shield systems the new sarmat missile could deliver warheads of 40 megatons – 2000 times as powerful as the atom bombs dropped on hiroshima and nagasaki in 1945 scroll down for video russian president vladimir putin is reportedly planning to replace the country’s older ss18 satan weapons with the new missiles amid a string of recent disagreements with the west the kremlin has stepped up the rhetoric against the west and carried a series of manoeuvres that has infuriated politicians in the us and uk the pictures were revealed online by chief designers from the makeyev rocket design bureau a message posted alongside the picture said ‘in accordance with the decree of the russian government ‘on the state defense order for 2010 and the planning period 20122013’ the makeyev rocket design bureau was instructed to start design and development work on the sarmat ‘ the rs28 sarmat missile is said to contain 16 nuclear warheads and is capable of destroying an area the size of france or texas according to russian news network zvezda which is owned by russia’s ministry of defence the weapon is also able to evade radar it is expected to have a range of 6213 miles 10000 km which would allow moscow to attack london and \\nfor entire article click link</td>\n",
              "      <td>1</td>\n",
              "      <td>satan russia unveli image terrifying new supernuke western world take notice</td>\n",
              "      <td>sarmat missile dub satan replace fly mile sec range mile weapon perceive increasingly aggressive russia deliver warhead megaton time powerful atom bomb drop hiroshima nagasaki libby plummer gareth davie russia unveil chilling picture large nuclear missile capable destroy area size france sarmat missile dub satan nato speed mile second design outfox antimissile shield system new sarmat missile deliver warhead megaton time powerful atom bomb drop hiroshima nagasaki scroll video russian president vladimir putin reportedly plan replace country old satan weapon new missile amid string recent disagreement west kremlin step rhetoric west carry series manoeuvre infuriate politician picture reveal online chief designer makeyev rocket design bureau message post alongside picture say accordance decree russian government state defense order planning period makeyev rocket design bureau instruct start design development work sarmat sarmat missile say contain nuclear warhead capable destroy area size france texas accord russian news network zvezda own russia ministry defence weapon able evade radar expect range mile allow moscow attack london entire article click link</td>\n",
              "    </tr>\n",
              "    <tr>\n",
              "      <th>5</th>\n",
              "      <td>about time christian group sues amazon and splc for designation as hate group</td>\n",
              "      <td>all we can say on this one is it s about time someone sued the southern poverty law centeron tuesday d james kennedy ministries djkm filed a lawsuit against the southern poverty law center splc the charity navigation organization guidestar and amazon for defamation religious discrimination and trafficking in falsehood the splc listed djkm as a  hate group  while guidestar also categorized it in those terms and amazon kept the ministry off of its charity donation program amazon smile we embarked today on a journey to right a terrible wrong  dr frank wright president and ceo at djkm said in a statement tuesday  those who knowingly label christian ministries as  hate  groups solely for subscribing to the historic christian faith are either woefully uninformed or willfully deceitful in the case of the southern poverty law center our lawsuit alleges the latter the splc has labeled djkm an  antilgbt hate group  for its opposition to samesex marriage and transgenderism  these false and illegal characterizations have a chilling effect on the free exercise of religion and on religious free speech for all people of faith  wright declared after having given the splc an opportunity to retract we have undertaken this legal action seeking a trial by a jury of our peers to preserve our own rights under the law and to defend the religious free speech rights of all americans  the djkm president concludedthe lawsuit laid out charges against the splc guidestar and amazonread more pjm</td>\n",
              "      <td>1</td>\n",
              "      <td>time christian group sue amazon splc designation hate group</td>\n",
              "      <td>time sue southern poverty law centeron tuesday james kennedy ministries djkm file lawsuit southern poverty law center splc charity navigation organization guidestar amazon defamation religious discrimination traffic falsehood splc list djkm hate group guidestar categorize term amazon keep ministry charity donation program amazon smile embark today journey right terrible wrong frank wright president ceo djkm say statement tuesday knowingly label christian ministry hate group solely subscribe historic christian faith woefully uninformed willfully deceitful case southern poverty law center lawsuit allege splc label djkm antilgbt hate group opposition samesex marriage transgenderism false illegal characterization chilling effect free exercise religion religious free speech people faith wright declare have give splc opportunity retract undertake legal action seek trial jury peer preserve right law defend religious free speech right americans djkm president concludedthe lawsuit lay charge splc guidestar amazonread pjm</td>\n",
              "    </tr>\n",
              "  </tbody>\n",
              "</table>\n",
              "</div>"
            ],
            "text/plain": [
              "                                                                                                                                    title  \\\n",
              "0           law enforcement on high alert following threats against cops and whites on 911by blacklivesmatter and fyf911 terrorists video   \n",
              "2  unbelievable obama’s attorney general says most charlotte rioters were “peaceful” protesters…in her home state of north carolina video   \n",
              "3                                 bobby jindal raised hindu uses story of christian conversion to woo evangelicals for potential 2016 bid   \n",
              "4                                          satan 2 russia unvelis an image of its terrifying new ‘supernuke’ – western world takes notice   \n",
              "5                                                           about time christian group sues amazon and splc for designation as hate group   \n",
              "\n",
              "                                                                                                                                                                                                                                                                                                                                                                                                                                                                                                                                                                                                                                                                                                                                                                                                                                                                                                                                                                                                                                                                                                                                                                                                                                                                                                                                                                                                                                                                                                                                                                                                                                                                                                                                                                                                                                                                                                                                                                                                                                                                                                                                                                                                                                                                                                                                                                                                                                                                                                                                                                                                                                                                                                                                                                                                                                                                                                                                                                                                                                                                                                                                                                                                                                                                                                                                                                                                                                                                                                                                                                                                                                                                                                                                                                                                                                                                                                                                                                                                                                                                                                                                                                                                                                                                                                                                                                                                                                                                                                                                                                                                                                                                                                                                                                                                                                                                                                                                                                                                                                                                                                                                                                                                                                                                                                                                                                                                                                                                                                                                                                                                                                                                                                                                                                                                                                                                                                                                                                                                                                                                                                                                                                                                                                                                                                                                                                                                                                                                                                                                                                                                                                                                                                                                                                                                                                                                                                                                                                                                                                                                                                                                                                                                                                                                                                                                                                                                                                                                                                                                                                                                                                                                                                                                                                                                                                                                                                                                                                                                                                                                                                                                                                                                                                           text  \\\n",
              "0                                                                                                                                                                                                                                                                                                                                                                                                                                                                                                                                                                                                                                                                                                                                                                                                                                                                                                                                                                                                                                                                                                                                                                                                                                                                                                                                                                                                                                                                                                                                                                                                                                                                                                                                                                                                                                                                                                                                                                                                                                                                                                                                                                                                                                                                                                                                                                                                                                                                                                                                                                                                                                                                                                                                                                                                                                                                                                                                                                                                                                                                                                                                                                           no comment is expected from barack obama members of the fyf911 or fukyoflag and blacklivesmatter movements called for the lynching and hanging of white people and cops they encouraged others on a radio show tuesday night to  turn the tide  and kill white people and cops to send a message about the killing of black people in americaone of the fyoflag organizers is called  sunshine  she has a radio blog show hosted from texas called  sunshine s fing opinion radio show a snapshot of her fyf911 lolatwhitefear twitter page at 953 pm shows that she was urging supporters to  call now fyf911 tonight we continue to dismantle the illusion of white below is a snapshot twitter radio call invite   fyf911the radio show aired at 1000 pm eastern standard timeduring the show callers clearly call for  lynching  and  killing  of white peoplea 239 minute clip from the radio show can be heard here it was provided to breitbart texas by someone who would like to be referred to as  hannibal  he has already received death threats as a result of interrupting fyf911 conference callsan unidentified black man said  when those mother fkers are by themselves that s when when we should start fing them up like they do us when a bunch of them niers takin  one of us out that s how we should roll up  he said  cause we already roll up in gangs anyway there should be six or seven black mother fckers see that white person and then lynch their ass let s turn the tables they conspired that if  cops started losing people  then  there will be a state of emergency he speculated that one of two things would happen  a bigass r s war  or  niers they are going to start backin  up we are already getting killed out here so what the fk we got to lose sunshine could be heard saying  yep that s true that s so fking true he said  we need to turn the tables on them our kids are getting shot out here somebody needs to become a sacrifice on their sidehe said  everybody ain t down for that st or whatever but like i say everybody has a different position of war  he continued  because they don t give a fk anyway  he said again  we might as well utilized them for that st and turn the tables on these ners he said that way  we can start lookin  like we ain t havin  that many casualties and there can be more causalities on their side instead of ours they are out their killing black people black lives don t matter that s what those mother fkers   so we got to make it matter to them find a mother fker that is alone snap his ass and then fin hang him from a damn tree take a picture of it and then send it to the mother fkers we  just need one example  and  then people will start watchin   this will turn the tables on st he said he said this will start  a trickledown effect  he said that when one white person is hung and then they are just  flathanging  that will start the  trickledown effect  he continued  black people are good at starting trends he said that was how  to get the upperhand another black man spoke up saying they needed to kill  cops that are killing us the first black male said  that will be the best method right there breitbart texas previously reported how sunshine was upset when  racist white people  infiltrated and disrupted one of her conference calls she subsequently released the phone number of one of the infiltrators the veteran immediately started receiving threatening callsone of the fyoflag movement supporters allegedly told a veteran who infiltrated their publicly posted conference call  we are going to rape and gut your pregnant wife and your fing piece of sht unborn creature will be hung from a tree breitbart texas previously encountered sunshine at a sandra bland protest at the waller county jail in texas where she said all white people should be killed she told journalists and photographers  you see this nappyass hair on my head   that means i am one of those more militant negroes  she said she was at the protest because  these redneck motherfkers murdered sandra bland because she had nappy hair like me fyf911 black radicals say they will be holding the  imperial powers  that are actually responsible for the terrorist attacks on september 11th accountable on that day as reported by breitbart texas there are several websites and twitter handles for the movement palmetto star  describes himself as one of the head organizers he said in a youtube video that supporters will be burning their symbols of  the illusion of their superiority  their  false white supremacy  like the american flag the british flag police uniforms and ku klux klan hoodssierra mcgrone or  nocturnus libertus  posted  you too can help a young afrikan clean their a with the rag of oppression  she posted two photos one that appears to be herself and a photo of a black man wiping their naked butts with the american flagfor entire story breitbart news   \n",
              "2                                                                                                                                                                                                                                                                                                                                                                                                                                                                                                                                                                                                                                                                                                                                                                                                                                                                                                                                                                                                                                                                                                                                                                                                                                                                                                                                                                                                                                                                                                                                                                                                                                                                                                                                                                                                                                                                                                                                                                                                                                                                                                                                                                                                                                                                                                                                                                                                                                                                                                                                                                                                                                                                                                                                                                                                                                                                                                                                                                                                                                                                                                                                                                                                                                                                                                                                                                                                                                                                                                                                                                                                                                                                                                                                                                                                                                                                                                                                                                                                                                                                                                                                                                                                                                                                                                                                                                                                                                                                                                                                                                                                                                                                                                                                                                                                                                                                                                                                                                                                                                                                                                                                                                                                                                                                                                                                                                                                                                                                                                                                                                                                                                                                                                                                                                                                                                                                                                                                                                                                                                                                                                                                                                                                                                                                                                                                                                                                                                                                                                                                                                                                                                                                                                                                                                                                                                                                                                                                                                                                                                                                                                                                                                                                                                                                                                                                                                                                                                                                                                                                                                                                                                                                                                                                                                                                                                                                                                                                                                                                                         now most of the demonstrators gathered last night were exercising their constitutional and protected right to peaceful protest in order to raise issues and create change    loretta lynch aka eric holder in a skirt   \n",
              "3  a dozen politically active pastors came here for a private dinner friday night to hear a conversion story unique in the context of presidential politics how louisiana gov bobby jindal traveled from hinduism to protestant christianity and ultimately became what he calls an “evangelical catholic”\\n\\nover two hours jindal 42 recalled talking with a girl in high school who wanted to “save my soul” reading the bible in a closet so his parents would not see him and feeling a stir while watching a movie during his senior year that depicted jesus on the cross\\n\\n“i was struck and struck hard” jindal told the pastors “this was the son of god and he had died for our sins”\\n\\njindal’s session with the christian clergy who lead congregations in the early presidential battleground states of iowa and south carolina was part of a behindthescenes effort by the louisiana governor to find a political base that could help propel him into the top tier of republican candidates seeking to run for the white house in 2016\\n\\nknown in gop circles mostly for his mastery of policy issues such as health care jindal a rhodes scholar and graduate of the ivy league’s brown university does not have an obvious pool of activist supporters to help drive excitement outside his home state so he is harnessing his religious experience in a way that has begun to appeal to parts of the gop’s influential core of religious conservatives many of whom have yet to find a favorite among the republicans eyeing the presidential race\\n\\nother potential 2016 gop candidates are wooing the evangelical base including sens rand paul ky and ted cruz tex and indiana gov mike pence\\n\\nbut over the weekend in lynchburg — a mecca of sorts for evangelicals as the home of liberty university founded in the 1970s by the rev jerry falwell — jindal appeared to make progress\\n\\nin addition to his dinner with the pastors he delivered a wellreceived “call to action” address to 40000 christian conservatives gathered for liberty’s commencement ceremony talking again about his faith while assailing what he said was president obama’s record of attacking religious liberty\\n\\nthe pastors who came to meet jindal said his intimate descriptions of his experiences stood out\\n\\n“he has the convictions and he has what it takes to communicate them” said brad sherman of solid rock christian church in coralville iowa sherman helped former arkansas governor mike huckabee in his winning 2008 campaign for delegates in iowa\\n\\nanother huckabee admirer the rev c mitchell brooks of second baptist church in belton sc said jindal’s commitment to christian values and his compelling story put him “on a par” with huckabee who was a baptist preacher before entering politics\\n\\nthe visiting pastors flew to lynchburg over the weekend at the invitation of the american renewal project a wellfunded nonprofit group that encourages evangelical christians to engage in the civic arena with voter guides getoutthevote drives and programs to train pastors in grassroots activism the group’s founder david lane has built a pastor network in politically important states such as iowa missouri ohio and south carolina and has led trips to israel with paul and others seeking to make inroads with evangelical activists\\n\\nthe group that lane invited to lynchburg included donald wild­mon a retired minister and founder of the american family association a prominent evangelical activist group that has influence through its network of more than 140 christian radio stations\\n\\nmost of the pastors that lane’s organization brought to lynchburg had not met jindal but they said he captured their interest recently when he stepped forward to defend phil robertson patriarch of the “duck dynasty” televisionshow family amid a controversy over disparaging remarks he made about gays in an interview with gq magazine\\n\\nthroughout his lynchburg visit jindal presented himself as a willing culture warrior\\n\\nduring his commencement address saturday he took up the cause of twin brothers whose hgtv reality series about renovating and reselling houses “flip it forward” was canceled last week after a web site revealed that they had protested against samesex marriage at the 2012 democratic national convention in charlotte\\n\\nthe siblings jason and david benham both liberty graduates attended the graduation and a private lunch with jindal who called the action against them “another demonstration of intolerance from the entertainment industry”\\n\\n“if these guys had protested at the republican party convention instead of canceling their show hgtv would probably have given them a raise” jindal said as the liberty crowd applauded\\n\\nhe cited the hobby lobby craft store chain which faced a legal challenge after refusing to provide employees with insurance coverage for contraceptives as required under the affordable care act members of the family that owns hobby lobby who have become heroes to many religious conservatives have said that they are morally opposed to the use of certain types of birth control and that they considered the requirement a violation of their first amendment right to religious freedom\\n\\nthe family was “committed to honor the lord by being generous employers paying well above minimum wage and increasing salaries four years in a row even in the midst of the enduring recession” jindal told the liberty graduates “none of this matters to the obama administration”\\n\\nbut for the pastors who came to see jindal in action the governor’s own story was the highlight of the weekend and in many ways he was unlike any other aspiring president these activists had met\\n\\npiyush jindal was born in 1971 four months after his parents arrived in baton rouge la from their native india he changed his name to bobby as a young boy adopting the name of a character on a favorite television show “the brady bunch”\\n\\nhis decision to become a christian he told the pastors did not come in one moment of lightning epiphany instead he said it happened in phases growing from small seeds planted over time\\n\\njindal recalled that his closest friend from grade school gave him a bible with his name emblazoned in gold on the cover as a christmas present it struck him initially as an unimpressive gift jindal told the pastors\\n\\n“who in the world would spend good money for a bible when everyone knows you can get one free in any hotel” he recalled thinking at the time “and the gold lettering meant i couldn’t give it away or return it”\\n\\nhis religious education reached a higher plane during his junior year in high school he told his dinner audience he wanted to ask a pretty girl on a date during a hallway conversation and she started talking about her faith in god and her opposition to abortion the girl invited him to visit her church\\n\\njindal said he was skeptical and set out to “investigate all these fanciful claims” made by the girl and other friends he started reading the bible in his closet at home “i was unsure how my parents would react” he said\\n\\nafter the stirring moment when he saw christ depicted on the cross during the religious movie the bible and his very existence suddenly seemed clearer to him jindal told the pastors\\n\\njindal did not dwell on his subsequent conversion to catholicism just a few years later in college where he said he immersed himself in the traditions of the church\\n\\nhe touched on it briefly during the commencement address noting in passing that “i am best described as an evangelical catholic” mostly he sought to showcase the ways in which he shares values with other christian conservatives\\n\\n“i read the words of jesus christ and i realized that they were true” jindal told the graduates saturday offering a less detailed accounting of his conversion than he had done the night before with the pastors “i used to think that i had found god but i believe it is more accurate to say that he found me”   \n",
              "4                                                                                                                                                                                                                                                                                                                                                                                                                                                                                                                                                                                                                                                                                                                                                                                                                                                                                                                                                                                                                                                                                                                                                                                                                                                                                                                                                                                                                                                                                                                                                                                                                                                                                                                                                                                                                                                                                                                                                                                                                                                                                                                                                                                                                                                                                                                                                                                                                                                                                                                                                                                                                                                                                                                                                                                                                                                                                                                                                                                                                                                                                                                                                                                                                                                                                                                                                                                                                                                                                                                                                                                                                                                                                                                                                                                                                                                                                                                                                                                                                                                                                                                                                                                                                                                                                                                                                                                                                                                                                                                                                                                                                                                                                                                                                                                                                                                                                                                                                                                                                                                                                                                                                                                                                                                                                                                                                                                                                                                                                                                                                                                                                                                                                                                                                                                                                                                                                                                                                                                                                                                                                                                                                                                                                                                                                           the rs28 sarmat missile dubbed satan 2 will replace the ss18 flies at 43 miles 7km per sec and with a range of 6213 miles 10000km the weapons are perceived as part of an increasingly aggressive russia it could deliver a warhead of 40 megatons – 2000 times as powerful as the atom bombs dropped on hiroshima and nagasaki in 1945 by libby plummer and gareth davie s russia has unveiled chilling pictures of its largest ever nuclear missile capable of destroying an area the size of france the rs28 sarmat missile dubbed satan 2 by nato has a top speed of 43 miles 7km per second and has been designed to outfox antimissile shield systems the new sarmat missile could deliver warheads of 40 megatons – 2000 times as powerful as the atom bombs dropped on hiroshima and nagasaki in 1945 scroll down for video russian president vladimir putin is reportedly planning to replace the country’s older ss18 satan weapons with the new missiles amid a string of recent disagreements with the west the kremlin has stepped up the rhetoric against the west and carried a series of manoeuvres that has infuriated politicians in the us and uk the pictures were revealed online by chief designers from the makeyev rocket design bureau a message posted alongside the picture said ‘in accordance with the decree of the russian government ‘on the state defense order for 2010 and the planning period 20122013’ the makeyev rocket design bureau was instructed to start design and development work on the sarmat ‘ the rs28 sarmat missile is said to contain 16 nuclear warheads and is capable of destroying an area the size of france or texas according to russian news network zvezda which is owned by russia’s ministry of defence the weapon is also able to evade radar it is expected to have a range of 6213 miles 10000 km which would allow moscow to attack london and \\nfor entire article click link   \n",
              "5                                                                                                                                                                                                                                                                                                                                                                                                                                                                                                                                                                                                                                                                                                                                                                                                                                                                                                                                                                                                                                                                                                                                                                                                                                                                                                                                                                                                                                                                                                                                                                                                                                                                                                                                                                                                                                                                                                                                                                                                                                                                                                                                                                                                                                                                                                                                                                                                                                                                                                                                                                                                                                                                                                                                                                                                                                                                                                                                                                                                                                                                                                                                                                                                                                                                                                                                                                                                                                                                                                                                                                                                                                                                                                                                                                                                                                                                                                                                                                                                                                                                                                                                                                                                                                                                                                                                                                                                                                                                                                                                                                                                                                                                                                                                                                                                                                                                                                                                                                                                                                                                                                                                                                                                                                                                                                                                                                                                                                                                                                                                                                                                                                                                                                                                                                                                                                                                                                                                                                                                                                                                                                                                                                                                                                                                                                                                                                                                                                                                                                                                                                                                                                                                                             all we can say on this one is it s about time someone sued the southern poverty law centeron tuesday d james kennedy ministries djkm filed a lawsuit against the southern poverty law center splc the charity navigation organization guidestar and amazon for defamation religious discrimination and trafficking in falsehood the splc listed djkm as a  hate group  while guidestar also categorized it in those terms and amazon kept the ministry off of its charity donation program amazon smile we embarked today on a journey to right a terrible wrong  dr frank wright president and ceo at djkm said in a statement tuesday  those who knowingly label christian ministries as  hate  groups solely for subscribing to the historic christian faith are either woefully uninformed or willfully deceitful in the case of the southern poverty law center our lawsuit alleges the latter the splc has labeled djkm an  antilgbt hate group  for its opposition to samesex marriage and transgenderism  these false and illegal characterizations have a chilling effect on the free exercise of religion and on religious free speech for all people of faith  wright declared after having given the splc an opportunity to retract we have undertaken this legal action seeking a trial by a jury of our peers to preserve our own rights under the law and to defend the religious free speech rights of all americans  the djkm president concludedthe lawsuit laid out charges against the splc guidestar and amazonread more pjm   \n",
              "\n",
              "   label  \\\n",
              "0      1   \n",
              "2      1   \n",
              "3      0   \n",
              "4      1   \n",
              "5      1   \n",
              "\n",
              "                                                                                                   clean_title  \\\n",
              "0                          law enforcement high alert follow threat cop white blacklivesmatter terrorist video   \n",
              "2  unbelievable obama attorney general say charlotte rioter peaceful protester home state north carolina video   \n",
              "3                        bobby jindal raise hindu use story christian conversion woo evangelical potential bid   \n",
              "4                                 satan russia unveli image terrifying new supernuke western world take notice   \n",
              "5                                                  time christian group sue amazon splc designation hate group   \n",
              "\n",
              "                                                                                                                                                                                                                                                                                                                                                                                                                                                                                                                                                                                                                                                                                                                                                                                                                                                                                                                                                                                                                                                                                                                                                                                                                                                                                                                                                                                                                                                                                                                                                                                                                                                                                                                                                                                                                                                                                                                                                                                                                                                                                                                                                                                                                                                                                                                                                                                                                                                                                                                                                                                                                                                                                                                                                                                                                                                                                                                                                                                                                                                                                                                                                                                                                                                                                                                                                                                                                                                                                                                                                                                                                                                                                                                                                                                                                                                                                                                                                                                                                                                                                                                                                                                                                                                                                                                                                                                                                                                                                                                                                                                                                                                                                                                                                                                                                                                                                                                                                                                                                                                                                                                 clean_text  \n",
              "0                                                                                                                                                                                                                                                                                                                                                                                                                                                                                                                                                                                                                                                                                                                                                                                                                                                                                                                                                                                                                                                                                                                                                                                                                                                                                                                                                                                                                                                                                                                                                                                                                                                                                                                                                                                                                                                                                                                                                                                                                                                                                                                                                                                                                                                                                                                                comment expect barack obama member fukyoflag blacklivesmatter movement call lynching hanging white people cop encourage radio tuesday night turn tide kill white people cop send message killing black people americaone fyoflag organizer call sunshine radio blog host texas call sunshine fing opinion radio snapshot lolatwhitefear twitter page show urge supporter tonight continue dismantle illusion white snapshot twitter radio invite radio air eastern standard timedure caller clearly lynching kill white peoplea minute clip radio hear provide breitbart texas like refer hannibal receive death threat result interrupt conference callsan unidentified black man say mother fker start fe like bunch nier takin roll say cause roll gang seven black mother fcker white person lynch ass let turn table conspire cop start lose people state emergency speculate thing happen bigass war nier go start backin get kill get lose sunshine hear say yep true fking true say need turn table kid get shoot somebody need sacrifice sidehe say everybody ain like everybody different position war continue don say utilize turn table ner say way start lookin like ain havin casualty causality instead kill black people black life don matter mother fker get matter find mother fker snap ass fin hang damn tree picture send mother fker need example people start watchin turn table say say start trickledown effect say white person hang flathange start trickledown effect continue black people good start trend say upperhand black man speak say need kill cop kill black male say good method right breitbart texas previously report sunshine upset racist white people infiltrate disrupt conference call subsequently release phone number infiltrator veteran immediately start receive threaten callsone fyoflag movement supporter allegedly tell veteran infiltrate publicly post conference go rape gut pregnant wife fing piece sht unborn creature hang tree breitbart texas previously encounter sunshine sandra bland protest waller county jail texas say white people kill tell journalist photographer nappyass hair head mean militant negro say protest redneck motherfker murder sandra bland nappy hair like black radical hold imperial power actually responsible terrorist attack september accountable day report breitbart texas website twitter handle movement palmetto star describe head organizer say youtube video supporter burn symbol illusion superiority false white supremacy like american flag british flag police uniform klux klan hoodssierra mcgrone nocturnus libertus post help young afrikan clean rag oppression post photo appear photo black man wipe naked butt american flagfor entire story breitbart news  \n",
              "2                                                                                                                                                                                                                                                                                                                                                                                                                                                                                                                                                                                                                                                                                                                                                                                                                                                                                                                                                                                                                                                                                                                                                                                                                                                                                                                                                                                                                                                                                                                                                                                                                                                                                                                                                                                                                                                                                                                                                                                                                                                                                                                                                                                                                                                                                                                                                                                                                                                                                                                                                                                                                                                                                                                                                                                                                                                                                                                                                                                                                                                                                                                                                                                                                                                                                                                                                                                                                                                                                                                                                                                                                                                                                                                                                                                                                                                                                                                                                                                                                                                                                                                                                                                                                                                                                                                                                                                                                                                                                                                                                                                                                                                                                                                                                                                                                                                                                                                                                                      demonstrator gather night exercise constitutional protect right peaceful protest order raise issue create change loretta lynch aka eric holder skirt  \n",
              "3  dozen politically active pastor come private dinner friday night hear conversion story unique context presidential politic louisiana gov bobby jindal travel hinduism protestant christianity ultimately call evangelical catholic hour jindal recall talk girl high school want save soul read bible closet parent feel stir watch movie senior year depict jesus cross strike strike hard jindal tell pastor son god die sin jindal session christian clergy lead congregation early presidential battleground state iowa south carolina behindthescene effort louisiana governor find political base help propel tier republican candidate seek run white house know gop circle mastery policy issue health care jindal rhode scholar graduate ivy league brown university obvious pool activist supporter help drive excitement outside home state harness religious experience way begin appeal part gop influential core religious conservative find favorite republicans eye presidential race potential gop candidate woo evangelical base include sen rand paul ted cruz tex indiana gov mike pence weekend lynchburg mecca sort evangelical home liberty university found rev jerry falwell jindal appear progress addition dinner pastor deliver wellreceive action address christian conservative gather liberty commencement ceremony talk faith assail say president obama record attack religious liberty pastor come meet jindal say intimate description experience stand conviction take communicate say brad sherman solid rock christian church coralville iowa sherman help arkansas governor mike huckabee win campaign delegate iowa huckabee admirer rev mitchell brooks second baptist church belton say jindal commitment christian value compelling story par huckabee baptist preacher enter politic visit pastor fly lynchburg weekend invitation american renewal project wellfunde nonprofit group encourage evangelical christian engage civic arena voter guide getoutthevote drive program train pastor grassroots activism group founder david lane build pastor network politically important state iowa missouri ohio south carolina lead trip israel paul seek inroad evangelical activist group lane invite lynchburg include donald retired minister founder american family association prominent evangelical activist group influence network christian radio station pastor lane organization bring lynchburg meet jindal say capture interest recently step forward defend phil robertson patriarch duck dynasty televisionshow family amid controversy disparage remark gay interview magazine lynchburg visit jindal present willing culture warrior commencement address saturday take cause twin brother hgtv reality series renovate resell house flip forward cancel week web site reveal protest samesex marriage democratic national convention charlotte sibling jason david benham liberty graduate attend graduation private lunch jindal call action demonstration intolerance entertainment industry guy protest republican party convention instead cancel hgtv probably give raise jindal say liberty crowd applaud cite hobby lobby craft store chain face legal challenge refuse provide employee insurance coverage contraceptive require affordable care act member family own hobby lobby hero religious conservative say morally oppose use certain type birth control consider requirement violation amendment right religious freedom family commit honor lord generous employer pay minimum wage increase salary year row midst endure recession jindal tell liberty graduate matter obama administration pastor come jindal action governor story highlight weekend way unlike aspire president activist meet piyush jindal bear month parent arrive baton rouge native india change bobby young boy adopt character favorite television brady bunch decision christian tell pastor come moment lightning epiphany instead say happen phase grow small seed plant time jindal recall close friend grade school give bible emblazon gold cover christmas present strike initially unimpressive gift jindal tell pastor world spend good money bible know free hotel recall think time gold lettering mean away return religious education reach high plane junior year high school tell dinner audience want ask pretty girl date hallway conversation start talk faith god opposition abortion girl invite visit church jindal say skeptical set investigate fanciful claim girl friend start read bible closet home unsure parent react say stirring moment see christ depict cross religious movie bible existence suddenly clear jindal tell pastor jindal dwell subsequent conversion catholicism year later college say immerse tradition church touch briefly commencement address note pass well describe evangelical catholic seek showcase way share value christian conservative read word jesus christ realize true jindal tell graduate saturday offer detailed accounting conversion night pastor think find god believe accurate find  \n",
              "4                                                                                                                                                                                                                                                                                                                                                                                                                                                                                                                                                                                                                                                                                                                                                                                                                                                                                                                                                                                                                                                                                                                                                                                                                                                                                                                                                                                                                                                                                                                                                                                                                                                                                                                                                                                                                                                                                                                                                                                                                                                                                                                                                                                                                                                                                                                                                                                                                                                                                                                                                                                                                                                                                                                                                                                                                                                                                                                                                                                                                                                                                                                                                                                                                                                                                                                                                                                                                                                                                                                                                                                                                                                                                                                                                                                                                                                                                                       sarmat missile dub satan replace fly mile sec range mile weapon perceive increasingly aggressive russia deliver warhead megaton time powerful atom bomb drop hiroshima nagasaki libby plummer gareth davie russia unveil chilling picture large nuclear missile capable destroy area size france sarmat missile dub satan nato speed mile second design outfox antimissile shield system new sarmat missile deliver warhead megaton time powerful atom bomb drop hiroshima nagasaki scroll video russian president vladimir putin reportedly plan replace country old satan weapon new missile amid string recent disagreement west kremlin step rhetoric west carry series manoeuvre infuriate politician picture reveal online chief designer makeyev rocket design bureau message post alongside picture say accordance decree russian government state defense order planning period makeyev rocket design bureau instruct start design development work sarmat sarmat missile say contain nuclear warhead capable destroy area size france texas accord russian news network zvezda own russia ministry defence weapon able evade radar expect range mile allow moscow attack london entire article click link  \n",
              "5                                                                                                                                                                                                                                                                                                                                                                                                                                                                                                                                                                                                                                                                                                                                                                                                                                                                                                                                                                                                                                                                                                                                                                                                                                                                                                                                                                                                                                                                                                                                                                                                                                                                                                                                                                                                                                                                                                                                                                                                                                                                                                                                                                                                                                                                                                                                                                                                                                                                                                                                                                                                                                                                                                                                                                                                                                                                                                                                                                                                                                                                                                                                                                                                                                                                                                                                                                                                                                                                                                                                                                                                                                                                                                                                                                                                                                                                                                                                                                                                                                                       time sue southern poverty law centeron tuesday james kennedy ministries djkm file lawsuit southern poverty law center splc charity navigation organization guidestar amazon defamation religious discrimination traffic falsehood splc list djkm hate group guidestar categorize term amazon keep ministry charity donation program amazon smile embark today journey right terrible wrong frank wright president ceo djkm say statement tuesday knowingly label christian ministry hate group solely subscribe historic christian faith woefully uninformed willfully deceitful case southern poverty law center lawsuit allege splc label djkm antilgbt hate group opposition samesex marriage transgenderism false illegal characterization chilling effect free exercise religion religious free speech people faith wright declare have give splc opportunity retract undertake legal action seek trial jury peer preserve right law defend religious free speech right americans djkm president concludedthe lawsuit lay charge splc guidestar amazonread pjm  "
            ]
          },
          "execution_count": 33,
          "metadata": {},
          "output_type": "execute_result"
        }
      ],
      "source": [
        "pd.set_option(\"display.max_colwidth\",None)\n",
        "data.head(5)"
      ]
    },
    {
      "cell_type": "code",
      "execution_count": null,
      "metadata": {
        "id": "szVC-sBWP6bJ"
      },
      "outputs": [],
      "source": [
        "from sklearn.feature_extraction.text import CountVectorizer"
      ]
    },
    {
      "cell_type": "code",
      "execution_count": null,
      "metadata": {
        "id": "9EmyDKxQP6bJ"
      },
      "outputs": [],
      "source": [
        "data.to_csv(\"New_data.csv\",index=False)"
      ]
    },
    {
      "cell_type": "code",
      "execution_count": null,
      "metadata": {
        "id": "uBaSsiS7P6bJ",
        "outputId": "33113c1a-d259-4833-e0aa-be8a82b09883"
      },
      "outputs": [
        {
          "data": {
            "text/html": [
              "<div>\n",
              "<style scoped>\n",
              "    .dataframe tbody tr th:only-of-type {\n",
              "        vertical-align: middle;\n",
              "    }\n",
              "\n",
              "    .dataframe tbody tr th {\n",
              "        vertical-align: top;\n",
              "    }\n",
              "\n",
              "    .dataframe thead th {\n",
              "        text-align: right;\n",
              "    }\n",
              "</style>\n",
              "<table border=\"1\" class=\"dataframe\">\n",
              "  <thead>\n",
              "    <tr style=\"text-align: right;\">\n",
              "      <th></th>\n",
              "      <th>Unnamed: 0</th>\n",
              "      <th>title</th>\n",
              "      <th>text</th>\n",
              "      <th>label</th>\n",
              "    </tr>\n",
              "  </thead>\n",
              "  <tbody>\n",
              "    <tr>\n",
              "      <th>28644</th>\n",
              "      <td>28644</td>\n",
              "      <td>One Star Over, a Planet That Might Be Another ...</td>\n",
              "      <td>Another Earth could be circling the star right...</td>\n",
              "      <td>0</td>\n",
              "    </tr>\n",
              "    <tr>\n",
              "      <th>25856</th>\n",
              "      <td>25856</td>\n",
              "      <td>U.S. lawmakers delay bill on European data pri...</td>\n",
              "      <td>WASHINGTON (Reuters) - Legislation that would ...</td>\n",
              "      <td>0</td>\n",
              "    </tr>\n",
              "    <tr>\n",
              "      <th>63692</th>\n",
              "      <td>63692</td>\n",
              "      <td>Las Vegas May Become the New Amsterdam</td>\n",
              "      <td>Las Vegas May Become the New Amsterdam 11/07/2...</td>\n",
              "      <td>1</td>\n",
              "    </tr>\n",
              "    <tr>\n",
              "      <th>30873</th>\n",
              "      <td>30873</td>\n",
              "      <td>Muhammad Ali: The Champion Who Never Sold Out ...</td>\n",
              "      <td>Muhammad Ali was an ungentrified black man. Th...</td>\n",
              "      <td>0</td>\n",
              "    </tr>\n",
              "  </tbody>\n",
              "</table>\n",
              "</div>"
            ],
            "text/plain": [
              "       Unnamed: 0                                              title  \\\n",
              "28644       28644  One Star Over, a Planet That Might Be Another ...   \n",
              "25856       25856  U.S. lawmakers delay bill on European data pri...   \n",
              "63692       63692             Las Vegas May Become the New Amsterdam   \n",
              "30873       30873  Muhammad Ali: The Champion Who Never Sold Out ...   \n",
              "\n",
              "                                                    text  label  \n",
              "28644  Another Earth could be circling the star right...      0  \n",
              "25856  WASHINGTON (Reuters) - Legislation that would ...      0  \n",
              "63692  Las Vegas May Become the New Amsterdam 11/07/2...      1  \n",
              "30873  Muhammad Ali was an ungentrified black man. Th...      0  "
            ]
          },
          "execution_count": 5,
          "metadata": {},
          "output_type": "execute_result"
        }
      ],
      "source": [
        "data.sample(4)"
      ]
    },
    {
      "cell_type": "markdown",
      "metadata": {
        "id": "dykcZvhgP6bJ"
      },
      "source": [
        "## Using Text only for Vectorization"
      ]
    },
    {
      "cell_type": "code",
      "execution_count": null,
      "metadata": {
        "id": "SL507a76P6bK"
      },
      "outputs": [],
      "source": [
        "import pandas as pd\n",
        "new_data = pd.read_csv(r\"/New_data.csv\")"
      ]
    },
    {
      "cell_type": "code",
      "execution_count": null,
      "metadata": {
        "colab": {
          "base_uri": "https://localhost:8080/",
          "height": 293
        },
        "id": "1OugSoaHP6bK",
        "outputId": "cf4da07d-729a-4bf3-ea7f-d02199dac851"
      },
      "outputs": [
        {
          "output_type": "execute_result",
          "data": {
            "text/plain": [
              "                                               title  \\\n",
              "0  law enforcement on high alert following threat...   \n",
              "1  unbelievable obama’s attorney general says mos...   \n",
              "2  bobby jindal raised hindu uses story of christ...   \n",
              "3  satan 2 russia unvelis an image of its terrify...   \n",
              "4  about time christian group sues amazon and spl...   \n",
              "\n",
              "                                                text  label  \\\n",
              "0  no comment is expected from barack obama membe...      1   \n",
              "1  now most of the demonstrators gathered last ni...      1   \n",
              "2  a dozen politically active pastors came here f...      0   \n",
              "3  the rs28 sarmat missile dubbed satan 2 will re...      1   \n",
              "4  all we can say on this one is it s about time ...      1   \n",
              "\n",
              "                                         clean_title  \\\n",
              "0  law enforcement high alert follow threat cop w...   \n",
              "1  unbelievable obama attorney general say charlo...   \n",
              "2  bobby jindal raise hindu use story christian c...   \n",
              "3  satan russia unveli image terrifying new super...   \n",
              "4  time christian group sue amazon splc designati...   \n",
              "\n",
              "                                          clean_text  \n",
              "0  comment expect barack obama member fukyoflag b...  \n",
              "1  demonstrator gather night exercise constitutio...  \n",
              "2  dozen politically active pastor come private d...  \n",
              "3  sarmat missile dub satan replace fly mile sec ...  \n",
              "4  time sue southern poverty law centeron tuesday...  "
            ],
            "text/html": [
              "\n",
              "  <div id=\"df-b11c4dd1-5f31-4dcd-b139-ded17936eebc\" class=\"colab-df-container\">\n",
              "    <div>\n",
              "<style scoped>\n",
              "    .dataframe tbody tr th:only-of-type {\n",
              "        vertical-align: middle;\n",
              "    }\n",
              "\n",
              "    .dataframe tbody tr th {\n",
              "        vertical-align: top;\n",
              "    }\n",
              "\n",
              "    .dataframe thead th {\n",
              "        text-align: right;\n",
              "    }\n",
              "</style>\n",
              "<table border=\"1\" class=\"dataframe\">\n",
              "  <thead>\n",
              "    <tr style=\"text-align: right;\">\n",
              "      <th></th>\n",
              "      <th>title</th>\n",
              "      <th>text</th>\n",
              "      <th>label</th>\n",
              "      <th>clean_title</th>\n",
              "      <th>clean_text</th>\n",
              "    </tr>\n",
              "  </thead>\n",
              "  <tbody>\n",
              "    <tr>\n",
              "      <th>0</th>\n",
              "      <td>law enforcement on high alert following threat...</td>\n",
              "      <td>no comment is expected from barack obama membe...</td>\n",
              "      <td>1</td>\n",
              "      <td>law enforcement high alert follow threat cop w...</td>\n",
              "      <td>comment expect barack obama member fukyoflag b...</td>\n",
              "    </tr>\n",
              "    <tr>\n",
              "      <th>1</th>\n",
              "      <td>unbelievable obama’s attorney general says mos...</td>\n",
              "      <td>now most of the demonstrators gathered last ni...</td>\n",
              "      <td>1</td>\n",
              "      <td>unbelievable obama attorney general say charlo...</td>\n",
              "      <td>demonstrator gather night exercise constitutio...</td>\n",
              "    </tr>\n",
              "    <tr>\n",
              "      <th>2</th>\n",
              "      <td>bobby jindal raised hindu uses story of christ...</td>\n",
              "      <td>a dozen politically active pastors came here f...</td>\n",
              "      <td>0</td>\n",
              "      <td>bobby jindal raise hindu use story christian c...</td>\n",
              "      <td>dozen politically active pastor come private d...</td>\n",
              "    </tr>\n",
              "    <tr>\n",
              "      <th>3</th>\n",
              "      <td>satan 2 russia unvelis an image of its terrify...</td>\n",
              "      <td>the rs28 sarmat missile dubbed satan 2 will re...</td>\n",
              "      <td>1</td>\n",
              "      <td>satan russia unveli image terrifying new super...</td>\n",
              "      <td>sarmat missile dub satan replace fly mile sec ...</td>\n",
              "    </tr>\n",
              "    <tr>\n",
              "      <th>4</th>\n",
              "      <td>about time christian group sues amazon and spl...</td>\n",
              "      <td>all we can say on this one is it s about time ...</td>\n",
              "      <td>1</td>\n",
              "      <td>time christian group sue amazon splc designati...</td>\n",
              "      <td>time sue southern poverty law centeron tuesday...</td>\n",
              "    </tr>\n",
              "  </tbody>\n",
              "</table>\n",
              "</div>\n",
              "    <div class=\"colab-df-buttons\">\n",
              "\n",
              "  <div class=\"colab-df-container\">\n",
              "    <button class=\"colab-df-convert\" onclick=\"convertToInteractive('df-b11c4dd1-5f31-4dcd-b139-ded17936eebc')\"\n",
              "            title=\"Convert this dataframe to an interactive table.\"\n",
              "            style=\"display:none;\">\n",
              "\n",
              "  <svg xmlns=\"http://www.w3.org/2000/svg\" height=\"24px\" viewBox=\"0 -960 960 960\">\n",
              "    <path d=\"M120-120v-720h720v720H120Zm60-500h600v-160H180v160Zm220 220h160v-160H400v160Zm0 220h160v-160H400v160ZM180-400h160v-160H180v160Zm440 0h160v-160H620v160ZM180-180h160v-160H180v160Zm440 0h160v-160H620v160Z\"/>\n",
              "  </svg>\n",
              "    </button>\n",
              "\n",
              "  <style>\n",
              "    .colab-df-container {\n",
              "      display:flex;\n",
              "      gap: 12px;\n",
              "    }\n",
              "\n",
              "    .colab-df-convert {\n",
              "      background-color: #E8F0FE;\n",
              "      border: none;\n",
              "      border-radius: 50%;\n",
              "      cursor: pointer;\n",
              "      display: none;\n",
              "      fill: #1967D2;\n",
              "      height: 32px;\n",
              "      padding: 0 0 0 0;\n",
              "      width: 32px;\n",
              "    }\n",
              "\n",
              "    .colab-df-convert:hover {\n",
              "      background-color: #E2EBFA;\n",
              "      box-shadow: 0px 1px 2px rgba(60, 64, 67, 0.3), 0px 1px 3px 1px rgba(60, 64, 67, 0.15);\n",
              "      fill: #174EA6;\n",
              "    }\n",
              "\n",
              "    .colab-df-buttons div {\n",
              "      margin-bottom: 4px;\n",
              "    }\n",
              "\n",
              "    [theme=dark] .colab-df-convert {\n",
              "      background-color: #3B4455;\n",
              "      fill: #D2E3FC;\n",
              "    }\n",
              "\n",
              "    [theme=dark] .colab-df-convert:hover {\n",
              "      background-color: #434B5C;\n",
              "      box-shadow: 0px 1px 3px 1px rgba(0, 0, 0, 0.15);\n",
              "      filter: drop-shadow(0px 1px 2px rgba(0, 0, 0, 0.3));\n",
              "      fill: #FFFFFF;\n",
              "    }\n",
              "  </style>\n",
              "\n",
              "    <script>\n",
              "      const buttonEl =\n",
              "        document.querySelector('#df-b11c4dd1-5f31-4dcd-b139-ded17936eebc button.colab-df-convert');\n",
              "      buttonEl.style.display =\n",
              "        google.colab.kernel.accessAllowed ? 'block' : 'none';\n",
              "\n",
              "      async function convertToInteractive(key) {\n",
              "        const element = document.querySelector('#df-b11c4dd1-5f31-4dcd-b139-ded17936eebc');\n",
              "        const dataTable =\n",
              "          await google.colab.kernel.invokeFunction('convertToInteractive',\n",
              "                                                    [key], {});\n",
              "        if (!dataTable) return;\n",
              "\n",
              "        const docLinkHtml = 'Like what you see? Visit the ' +\n",
              "          '<a target=\"_blank\" href=https://colab.research.google.com/notebooks/data_table.ipynb>data table notebook</a>'\n",
              "          + ' to learn more about interactive tables.';\n",
              "        element.innerHTML = '';\n",
              "        dataTable['output_type'] = 'display_data';\n",
              "        await google.colab.output.renderOutput(dataTable, element);\n",
              "        const docLink = document.createElement('div');\n",
              "        docLink.innerHTML = docLinkHtml;\n",
              "        element.appendChild(docLink);\n",
              "      }\n",
              "    </script>\n",
              "  </div>\n",
              "\n",
              "\n",
              "    <div id=\"df-28327a71-b82f-44fb-931c-209ab3eab421\">\n",
              "      <button class=\"colab-df-quickchart\" onclick=\"quickchart('df-28327a71-b82f-44fb-931c-209ab3eab421')\"\n",
              "                title=\"Suggest charts\"\n",
              "                style=\"display:none;\">\n",
              "\n",
              "<svg xmlns=\"http://www.w3.org/2000/svg\" height=\"24px\"viewBox=\"0 0 24 24\"\n",
              "     width=\"24px\">\n",
              "    <g>\n",
              "        <path d=\"M19 3H5c-1.1 0-2 .9-2 2v14c0 1.1.9 2 2 2h14c1.1 0 2-.9 2-2V5c0-1.1-.9-2-2-2zM9 17H7v-7h2v7zm4 0h-2V7h2v10zm4 0h-2v-4h2v4z\"/>\n",
              "    </g>\n",
              "</svg>\n",
              "      </button>\n",
              "\n",
              "<style>\n",
              "  .colab-df-quickchart {\n",
              "      --bg-color: #E8F0FE;\n",
              "      --fill-color: #1967D2;\n",
              "      --hover-bg-color: #E2EBFA;\n",
              "      --hover-fill-color: #174EA6;\n",
              "      --disabled-fill-color: #AAA;\n",
              "      --disabled-bg-color: #DDD;\n",
              "  }\n",
              "\n",
              "  [theme=dark] .colab-df-quickchart {\n",
              "      --bg-color: #3B4455;\n",
              "      --fill-color: #D2E3FC;\n",
              "      --hover-bg-color: #434B5C;\n",
              "      --hover-fill-color: #FFFFFF;\n",
              "      --disabled-bg-color: #3B4455;\n",
              "      --disabled-fill-color: #666;\n",
              "  }\n",
              "\n",
              "  .colab-df-quickchart {\n",
              "    background-color: var(--bg-color);\n",
              "    border: none;\n",
              "    border-radius: 50%;\n",
              "    cursor: pointer;\n",
              "    display: none;\n",
              "    fill: var(--fill-color);\n",
              "    height: 32px;\n",
              "    padding: 0;\n",
              "    width: 32px;\n",
              "  }\n",
              "\n",
              "  .colab-df-quickchart:hover {\n",
              "    background-color: var(--hover-bg-color);\n",
              "    box-shadow: 0 1px 2px rgba(60, 64, 67, 0.3), 0 1px 3px 1px rgba(60, 64, 67, 0.15);\n",
              "    fill: var(--button-hover-fill-color);\n",
              "  }\n",
              "\n",
              "  .colab-df-quickchart-complete:disabled,\n",
              "  .colab-df-quickchart-complete:disabled:hover {\n",
              "    background-color: var(--disabled-bg-color);\n",
              "    fill: var(--disabled-fill-color);\n",
              "    box-shadow: none;\n",
              "  }\n",
              "\n",
              "  .colab-df-spinner {\n",
              "    border: 2px solid var(--fill-color);\n",
              "    border-color: transparent;\n",
              "    border-bottom-color: var(--fill-color);\n",
              "    animation:\n",
              "      spin 1s steps(1) infinite;\n",
              "  }\n",
              "\n",
              "  @keyframes spin {\n",
              "    0% {\n",
              "      border-color: transparent;\n",
              "      border-bottom-color: var(--fill-color);\n",
              "      border-left-color: var(--fill-color);\n",
              "    }\n",
              "    20% {\n",
              "      border-color: transparent;\n",
              "      border-left-color: var(--fill-color);\n",
              "      border-top-color: var(--fill-color);\n",
              "    }\n",
              "    30% {\n",
              "      border-color: transparent;\n",
              "      border-left-color: var(--fill-color);\n",
              "      border-top-color: var(--fill-color);\n",
              "      border-right-color: var(--fill-color);\n",
              "    }\n",
              "    40% {\n",
              "      border-color: transparent;\n",
              "      border-right-color: var(--fill-color);\n",
              "      border-top-color: var(--fill-color);\n",
              "    }\n",
              "    60% {\n",
              "      border-color: transparent;\n",
              "      border-right-color: var(--fill-color);\n",
              "    }\n",
              "    80% {\n",
              "      border-color: transparent;\n",
              "      border-right-color: var(--fill-color);\n",
              "      border-bottom-color: var(--fill-color);\n",
              "    }\n",
              "    90% {\n",
              "      border-color: transparent;\n",
              "      border-bottom-color: var(--fill-color);\n",
              "    }\n",
              "  }\n",
              "</style>\n",
              "\n",
              "      <script>\n",
              "        async function quickchart(key) {\n",
              "          const quickchartButtonEl =\n",
              "            document.querySelector('#' + key + ' button');\n",
              "          quickchartButtonEl.disabled = true;  // To prevent multiple clicks.\n",
              "          quickchartButtonEl.classList.add('colab-df-spinner');\n",
              "          try {\n",
              "            const charts = await google.colab.kernel.invokeFunction(\n",
              "                'suggestCharts', [key], {});\n",
              "          } catch (error) {\n",
              "            console.error('Error during call to suggestCharts:', error);\n",
              "          }\n",
              "          quickchartButtonEl.classList.remove('colab-df-spinner');\n",
              "          quickchartButtonEl.classList.add('colab-df-quickchart-complete');\n",
              "        }\n",
              "        (() => {\n",
              "          let quickchartButtonEl =\n",
              "            document.querySelector('#df-28327a71-b82f-44fb-931c-209ab3eab421 button');\n",
              "          quickchartButtonEl.style.display =\n",
              "            google.colab.kernel.accessAllowed ? 'block' : 'none';\n",
              "        })();\n",
              "      </script>\n",
              "    </div>\n",
              "\n",
              "    </div>\n",
              "  </div>\n"
            ],
            "application/vnd.google.colaboratory.intrinsic+json": {
              "type": "dataframe",
              "variable_name": "new_data",
              "summary": "{\n  \"name\": \"new_data\",\n  \"rows\": 63121,\n  \"fields\": [\n    {\n      \"column\": \"title\",\n      \"properties\": {\n        \"dtype\": \"string\",\n        \"num_unique_values\": 62183,\n        \"samples\": [\n          \"congress should weigh us regulation of gun bump stocks republican senator\",\n          \"tensions simmer below surface as trump republicans map strategy\",\n          \"senate to vote on healthcare bill next week republican leader\"\n        ],\n        \"semantic_type\": \"\",\n        \"description\": \"\"\n      }\n    },\n    {\n      \"column\": \"text\",\n      \"properties\": {\n        \"dtype\": \"string\",\n        \"num_unique_values\": 62183,\n        \"samples\": [\n          \"washington reuters  us secretary of statedesignate rex tillerson visited the state department on tuesday for briefings a spokesman said a day after the former oil executive narrowly won approval from a senate committee \\u201csecretarydesignate tillerson visited the state department today for briefings\\u201d the state department spokesman said without elaborating it was tillerson\\u2019s first meetings at the state department since us president donald trump named him as his choice for secretary of state the senate foreign relations committee voted 1110 on monday to approve tillerson a former exxon mobil corp chairman\",\n          \"romemontevideo reuters  one of italy s most wanted mob bosses has been arrested in uruguay after 23 years on the run from convictions for mafia association drug trafficking and other serious crimes the interior ministries of both countries said on monday rocco morabito was considered the most wanted fugitive member of the calabrian  ndrangheta italy s most powerful organized crime group and one of europe s biggest importers of south american cocaine the 50yearold was arrested in montevideo after uruguayan police and italian authorities worked together to determine his real identity the italian ministry said in a statement dubbed the  cocaine king of milan  morabito had been wanted since 1994 after he was caught paying 13 billion lire 8 million to import almost a ton of the drug corriere della sera newspaper reported  morabito entered uruguay in 2001 and took up residence with his wife in the coastal resort city of punta del este the uruguayan interior ministry said in a statement he was living there under the false identity of francisco antonio capeletto souza of rio de janeiro it added morabito was jailed in uruguay for using false documents while italy s request for extradition is processed the statement said adding that 50000 in cash was found at his home along with 13 cell phones     an international arrest warrant was issued in 1995 with the aim of tracking down morabito and extraditing him to italy where he has been sentenced to 30 years in jail the arrest ticks one member off the italian interior ministry s fivestrong list of the country s mostwanted organized criminals on which morabito had rubbed shoulders with feared sicilian boss matteo messina denaro\",\n          \"washington reuters  supreme court justices walked a tightrope on wednesday over government approval of offensive trademarks expressing concern about endorsing racial slurs in brands and slogans while also worrying about protecting only positive words the eight justices heard arguments in a case involving a portland oregonbased asianamerican dancerock band called the slants that was denied a trademark on their name because the government deemed it offensive to people of asian descent the band challenged the rejection as violating free speech rights the case one of the most closely watched of the court\\u2019s current term could impact another highprofile dispute over the government\\u2019s cancellation of the trademarks of the washington redskins of the national football league for disparaging native americans the band\\u2019s attorney john connell told the justices the government cannot use trademark law to impose burdens on free speech to protect listeners from offense \\u201cthere was no suggestion that this was a politeness statute\\u201d connell told the justices the obama administration appealed after a lower court agreed with the band that part of the 1946 law governing federal trademarks that barred those that may disparage certain people ran afoul of the us constitution\\u2019s guarantee of free speech justice sonia sotomayor said no one is stopping the band from calling and advertising themselves as the slants  \\u201cyou are asking the government to endorse your name\\u201d in a way that the government chooses not to do sotomayor said the band\\u2019s legal dispute began when the us patent and trademark office refused to grant trademark protection for the slants\\u2019 name in 2013 some consider it a racial slur referring to asian people\\u2019s eyes the court\\u2019s ruling could set parameters for trademark registration which can help protect product and company names and commercial slogans in court and block the import and sale of counterfeit goods justice anthony kennedy asked the band\\u2019s attorney john connell whether a group of nonasians using the name the slants to mock asians could be denied a trademark connell said they could not  kennedy questioned whether the trademark system should be considered like a public park \\u201cwhere you can say anything you want\\u201d the justices seemed to agree with the band that the government was favoring some trademarks while disapproving others a kind of discrimination based on viewpoint traditionally forbidden by the first amendment justice elena kagan said that if the government granted trademarks only for positive messages like \\u201call politicians are virtuous\\u201d and not negative ones like \\u201call politicians are corrupt\\u201d that would be a \\u201cfairly classic case of viewpoint discrimination\\u201d while rejecting the slants for a trademark the government has registered other potentially offensive trademarks such as \\u201cbaked by a negro\\u201d baked goods \\u201cretardipedia\\u201d and \\u201cboobs as beer holders\\u201d adult videos according to court papers the justices appeared to struggle over whether banning offensive slurs is reasonable in the trademark system which is used to promote commerce and identify where products come from the slants\\u2019 frontman simon tam appealed the government\\u2019s trademark rejection saying the name was chosen as a way to reclaim the term and wear it as a \\u201cbadge of pride\\u201d the us court of appeals for the federal circuit in washington ruled in 2015 that the disparagement provision of the 1946 lanham act was unconstitutional the government should not be required to approve trademarks \\u201ccontaining crude references to women based on parts of their anatomy the most repellent racial slurs and whitesupremacist slogans and demeaning illustrations of the prophet mohammed and other religious figures\\u201d the obama administration said in a written brief to the supreme court  several justices wondered how to avoid problems of slander or libel if offensive trademarks can never be rejected referring to presidentelect donald trump sotomayor offered the example of someone trademarking the words \\u201ctrump is a thief\\u201d  even if a court considered that to be slander the trademark could still be used because it would be protected by the first amendment she said \\u201cthat makes no sense\\u201d sotomayor said  justice stephen breyer said the trademark law is not meant to provoke people into arguments which officially registering insults and slurs would do  a decision in is expected by the end of june  in the separate redskins\\u2019 case a trademark board in 2014 canceled the team\\u2019s six trademarks at the request of native american activists on grounds that the team name disparaged native americans the team\\u2019s appeal also on free speech grounds is on hold in the 4th circuit court of appeals in richmond virginia pending the outcome of the slants\\u2019 case\\u00a0 the case is in the supreme court of the united states is michelle k lee v simon shiao tam no 151293\"\n        ],\n        \"semantic_type\": \"\",\n        \"description\": \"\"\n      }\n    },\n    {\n      \"column\": \"label\",\n      \"properties\": {\n        \"dtype\": \"number\",\n        \"std\": 0,\n        \"min\": 0,\n        \"max\": 1,\n        \"num_unique_values\": 2,\n        \"samples\": [\n          0,\n          1\n        ],\n        \"semantic_type\": \"\",\n        \"description\": \"\"\n      }\n    },\n    {\n      \"column\": \"clean_title\",\n      \"properties\": {\n        \"dtype\": \"string\",\n        \"num_unique_values\": 61929,\n        \"samples\": [\n          \"vpelect penny swear conservative justice thomas\",\n          \"angry right secret playbook use good story peddle agenda america hate\"\n        ],\n        \"semantic_type\": \"\",\n        \"description\": \"\"\n      }\n    },\n    {\n      \"column\": \"clean_text\",\n      \"properties\": {\n        \"dtype\": \"string\",\n        \"num_unique_values\": 61898,\n        \"samples\": [\n          \"sarah palin step shadow send warning shot donald trump bow largely silent election endorse trump month ago palin speak trump comment interpret change antiimmigration positionwhile actual concrete policy shift comment cable news trump say away propose plan mass deportation undocumented immigrantsthat anger palin go record wall street journalin recent day trump shift away call mass deportation illegal immigrant suggest stay pay taxis trump path wishywashy position take thing core foundation support appreciate respect constitution respect law order america yeah massive disappointment mrs palin republican nominee vice president say telephone interview wall street journal part message hear week clearly consistent stringent position message supporter receive support palin undoubtedly help trump primary especially previously associate traditional conservative like senator ted cruzbut backburner campaign event receive speak slot republican convention cleveland ask apparent snub trump bizarre claim little bit difficult love sarah little bit difficult know long way away palin previously speak conservative event like cpac east coast transportation problemsfeatured image youtube\",\n          \"follow statement post verified twitter account president donald trump realdonaldtrump potus opinion express reuter edit statement confirm accuracy realdonaldtrump request mitch paul tie debt ceiling legislation popular bill pass easy approval edt big deal dem hold usual debt ceiling approval easynow mess edt fake news complain different type speech afghanistan somber big rally edt enthusiastic dynamic fun american legion respectful strong bad dem change tone edt james clapper famously get catch lie congress authority donald trump beautiful letter edt problem mitch mcconnell hear repeal replace year failedthat happen edt tuesday visit incredible man woman icegov dhsgov border patrol yuma thank respect cherish edt hurricaneharvey intensifie remember planahead wwwhurricanesgov hurricanesgov wwwreadygov readygov wwwfemagov femagov edt great honor spend time brave hero usmc air station yuma thank service united states america edt source link\"\n        ],\n        \"semantic_type\": \"\",\n        \"description\": \"\"\n      }\n    }\n  ]\n}"
            }
          },
          "metadata": {},
          "execution_count": 12
        }
      ],
      "source": [
        "new_data.head()"
      ]
    },
    {
      "cell_type": "code",
      "execution_count": null,
      "metadata": {
        "id": "hebSFWwKP6bK"
      },
      "outputs": [],
      "source": [
        "new_data.dropna(subset=[\"clean_text\",\"clean_title\"],inplace=True)"
      ]
    },
    {
      "cell_type": "code",
      "execution_count": null,
      "metadata": {
        "id": "QQ3jfwY8P6bK"
      },
      "outputs": [],
      "source": [
        "from sklearn.pipeline import Pipeline\n",
        "from sklearn.naive_bayes import MultinomialNB\n",
        "from sklearn.model_selection import train_test_split,GridSearchCV,RandomizedSearchCV\n",
        "from sklearn.feature_extraction.text import CountVectorizer"
      ]
    },
    {
      "cell_type": "code",
      "execution_count": null,
      "metadata": {
        "id": "rV4i-l1HP6bK"
      },
      "outputs": [],
      "source": [
        "model_NB= Pipeline([(\"CountVectorizer\",CountVectorizer()),\n",
        "                   (\"classification\",MultinomialNB())])"
      ]
    },
    {
      "cell_type": "code",
      "execution_count": null,
      "metadata": {
        "id": "CSp--pDRP6bK"
      },
      "outputs": [],
      "source": [
        "x_train,x_test,y_train,y_test = train_test_split(new_data[\"clean_text\"],new_data[\"label\"],test_size=0.2,random_state=1)"
      ]
    },
    {
      "cell_type": "code",
      "execution_count": null,
      "metadata": {
        "id": "W8SSUJsxP6bK",
        "outputId": "e1687bed-06ba-448e-ce8e-b59f64a543bf"
      },
      "outputs": [
        {
          "data": {
            "text/plain": [
              "28538    washington reuters russia ambassador washingto...\n",
              "41663    bad day donald trump conservative racist mediu...\n",
              "29357    tunis reuters tunisia navy rescue migrant incl...\n",
              "61598    analyze real time second presidential debate d...\n",
              "32818    cleveland reuters woman arrest tuesday climb f...\n",
              "                               ...                        \n",
              "32848    washington secretly arrest national security a...\n",
              "5258     berkeley calif fire burn cradle free speech fu...\n",
              "12316    liz harrington writer washington free beacon a...\n",
              "33342    cairo reuters saudile military coalition say s...\n",
              "63088    change doesn change truth female genital mutil...\n",
              "Name: clean_text, Length: 50026, dtype: object"
            ]
          },
          "execution_count": 11,
          "metadata": {},
          "output_type": "execute_result"
        }
      ],
      "source": [
        "x_train"
      ]
    },
    {
      "cell_type": "code",
      "execution_count": null,
      "metadata": {
        "id": "7ydqUpmrP6bX"
      },
      "outputs": [],
      "source": [
        "param_grid = {\n",
        "    'CountVectorizer__max_df': [0.8, 1.0],\n",
        "    'CountVectorizer__min_df': [2, 5],\n",
        "    'CountVectorizer__ngram_range': [(1, 1), (1, 2)],\n",
        "    'CountVectorizer__max_features': [10000, 20000],\n",
        "    'classification__alpha': [0.1, 0.5, 1.0]\n",
        "}"
      ]
    },
    {
      "cell_type": "code",
      "execution_count": null,
      "metadata": {
        "id": "pwB1MS_kP6bX",
        "outputId": "9af1da11-f0f4-411f-8a13-89ca280643d2"
      },
      "outputs": [
        {
          "name": "stdout",
          "output_type": "stream",
          "text": [
            "Fitting 3 folds for each of 24 candidates, totalling 72 fits\n"
          ]
        }
      ],
      "source": [
        "random_search = RandomizedSearchCV(\n",
        "    model_NB,\n",
        "    param_distributions=param_grid,\n",
        "    n_iter=24,\n",
        "    scoring='accuracy',\n",
        "    cv=3,\n",
        "    verbose=2,\n",
        "    n_jobs=4,\n",
        "    random_state=1\n",
        ")\n",
        "random_search.fit(x_train, y_train)\n",
        "print(\"Best Params:\", random_search.best_params_)"
      ]
    },
    {
      "cell_type": "markdown",
      "metadata": {
        "id": "jTnLJ8ldP6bY"
      },
      "source": [
        "## Using TFID with naive bayes classifier"
      ]
    },
    {
      "cell_type": "code",
      "execution_count": null,
      "metadata": {
        "id": "D4081zS4P6bY"
      },
      "outputs": [],
      "source": [
        "from sklearn.feature_extraction.text import TfidfVectorizer\n",
        "import numpy as np\n",
        "pipeline = Pipeline([\n",
        "    ('tfidf', TfidfVectorizer(max_df=0.75, min_df=5, ngram_range=(1, 2))),\n",
        "    ('clf', MultinomialNB(alpha=np.float64(0.7000000000000001)))\n",
        "])"
      ]
    },
    {
      "cell_type": "code",
      "source": [
        "import numpy as np\n",
        "param_dist = {\n",
        "    'tfidf__max_df': [0.75, 0.9, 1.0],\n",
        "    'tfidf__min_df': [1, 2, 5],\n",
        "    'tfidf__ngram_range': [(1,1), (1,2)],\n",
        "    'tfidf__max_features': [10000, 20000, None],\n",
        "    'clf__alpha': np.linspace(0.1, 1.0, 10)  # Smoothing parameter\n",
        "}"
      ],
      "metadata": {
        "id": "O8TRjbcoTciA"
      },
      "execution_count": null,
      "outputs": []
    },
    {
      "cell_type": "code",
      "source": [
        "random_search = RandomizedSearchCV(\n",
        "    pipeline,\n",
        "    param_distributions=param_dist,\n",
        "    n_iter=20,\n",
        "    scoring='accuracy',\n",
        "    cv=3,\n",
        "    verbose=2,\n",
        "    n_jobs=-1,\n",
        "    random_state=1\n",
        ")"
      ],
      "metadata": {
        "id": "E7JciZA_Tjle"
      },
      "execution_count": null,
      "outputs": []
    },
    {
      "cell_type": "code",
      "source": [
        "y_predict =pipeline.predict(x_test)"
      ],
      "metadata": {
        "id": "WJVRGgNoUI8O"
      },
      "execution_count": null,
      "outputs": []
    },
    {
      "cell_type": "code",
      "source": [
        "pipeline.fit(x_train,y_train)"
      ],
      "metadata": {
        "colab": {
          "base_uri": "https://localhost:8080/",
          "height": 155
        },
        "id": "29s2i3E8UESc",
        "outputId": "f9a35e83-2406-43f9-d97d-4b4b680357e9"
      },
      "execution_count": null,
      "outputs": [
        {
          "output_type": "execute_result",
          "data": {
            "text/plain": [
              "Pipeline(steps=[('tfidf',\n",
              "                 TfidfVectorizer(max_df=0.75, min_df=5, ngram_range=(1, 2))),\n",
              "                ('clf', MultinomialNB(alpha=np.float64(0.7000000000000001)))])"
            ],
            "text/html": [
              "<style>#sk-container-id-1 {\n",
              "  /* Definition of color scheme common for light and dark mode */\n",
              "  --sklearn-color-text: #000;\n",
              "  --sklearn-color-text-muted: #666;\n",
              "  --sklearn-color-line: gray;\n",
              "  /* Definition of color scheme for unfitted estimators */\n",
              "  --sklearn-color-unfitted-level-0: #fff5e6;\n",
              "  --sklearn-color-unfitted-level-1: #f6e4d2;\n",
              "  --sklearn-color-unfitted-level-2: #ffe0b3;\n",
              "  --sklearn-color-unfitted-level-3: chocolate;\n",
              "  /* Definition of color scheme for fitted estimators */\n",
              "  --sklearn-color-fitted-level-0: #f0f8ff;\n",
              "  --sklearn-color-fitted-level-1: #d4ebff;\n",
              "  --sklearn-color-fitted-level-2: #b3dbfd;\n",
              "  --sklearn-color-fitted-level-3: cornflowerblue;\n",
              "\n",
              "  /* Specific color for light theme */\n",
              "  --sklearn-color-text-on-default-background: var(--sg-text-color, var(--theme-code-foreground, var(--jp-content-font-color1, black)));\n",
              "  --sklearn-color-background: var(--sg-background-color, var(--theme-background, var(--jp-layout-color0, white)));\n",
              "  --sklearn-color-border-box: var(--sg-text-color, var(--theme-code-foreground, var(--jp-content-font-color1, black)));\n",
              "  --sklearn-color-icon: #696969;\n",
              "\n",
              "  @media (prefers-color-scheme: dark) {\n",
              "    /* Redefinition of color scheme for dark theme */\n",
              "    --sklearn-color-text-on-default-background: var(--sg-text-color, var(--theme-code-foreground, var(--jp-content-font-color1, white)));\n",
              "    --sklearn-color-background: var(--sg-background-color, var(--theme-background, var(--jp-layout-color0, #111)));\n",
              "    --sklearn-color-border-box: var(--sg-text-color, var(--theme-code-foreground, var(--jp-content-font-color1, white)));\n",
              "    --sklearn-color-icon: #878787;\n",
              "  }\n",
              "}\n",
              "\n",
              "#sk-container-id-1 {\n",
              "  color: var(--sklearn-color-text);\n",
              "}\n",
              "\n",
              "#sk-container-id-1 pre {\n",
              "  padding: 0;\n",
              "}\n",
              "\n",
              "#sk-container-id-1 input.sk-hidden--visually {\n",
              "  border: 0;\n",
              "  clip: rect(1px 1px 1px 1px);\n",
              "  clip: rect(1px, 1px, 1px, 1px);\n",
              "  height: 1px;\n",
              "  margin: -1px;\n",
              "  overflow: hidden;\n",
              "  padding: 0;\n",
              "  position: absolute;\n",
              "  width: 1px;\n",
              "}\n",
              "\n",
              "#sk-container-id-1 div.sk-dashed-wrapped {\n",
              "  border: 1px dashed var(--sklearn-color-line);\n",
              "  margin: 0 0.4em 0.5em 0.4em;\n",
              "  box-sizing: border-box;\n",
              "  padding-bottom: 0.4em;\n",
              "  background-color: var(--sklearn-color-background);\n",
              "}\n",
              "\n",
              "#sk-container-id-1 div.sk-container {\n",
              "  /* jupyter's `normalize.less` sets `[hidden] { display: none; }`\n",
              "     but bootstrap.min.css set `[hidden] { display: none !important; }`\n",
              "     so we also need the `!important` here to be able to override the\n",
              "     default hidden behavior on the sphinx rendered scikit-learn.org.\n",
              "     See: https://github.com/scikit-learn/scikit-learn/issues/21755 */\n",
              "  display: inline-block !important;\n",
              "  position: relative;\n",
              "}\n",
              "\n",
              "#sk-container-id-1 div.sk-text-repr-fallback {\n",
              "  display: none;\n",
              "}\n",
              "\n",
              "div.sk-parallel-item,\n",
              "div.sk-serial,\n",
              "div.sk-item {\n",
              "  /* draw centered vertical line to link estimators */\n",
              "  background-image: linear-gradient(var(--sklearn-color-text-on-default-background), var(--sklearn-color-text-on-default-background));\n",
              "  background-size: 2px 100%;\n",
              "  background-repeat: no-repeat;\n",
              "  background-position: center center;\n",
              "}\n",
              "\n",
              "/* Parallel-specific style estimator block */\n",
              "\n",
              "#sk-container-id-1 div.sk-parallel-item::after {\n",
              "  content: \"\";\n",
              "  width: 100%;\n",
              "  border-bottom: 2px solid var(--sklearn-color-text-on-default-background);\n",
              "  flex-grow: 1;\n",
              "}\n",
              "\n",
              "#sk-container-id-1 div.sk-parallel {\n",
              "  display: flex;\n",
              "  align-items: stretch;\n",
              "  justify-content: center;\n",
              "  background-color: var(--sklearn-color-background);\n",
              "  position: relative;\n",
              "}\n",
              "\n",
              "#sk-container-id-1 div.sk-parallel-item {\n",
              "  display: flex;\n",
              "  flex-direction: column;\n",
              "}\n",
              "\n",
              "#sk-container-id-1 div.sk-parallel-item:first-child::after {\n",
              "  align-self: flex-end;\n",
              "  width: 50%;\n",
              "}\n",
              "\n",
              "#sk-container-id-1 div.sk-parallel-item:last-child::after {\n",
              "  align-self: flex-start;\n",
              "  width: 50%;\n",
              "}\n",
              "\n",
              "#sk-container-id-1 div.sk-parallel-item:only-child::after {\n",
              "  width: 0;\n",
              "}\n",
              "\n",
              "/* Serial-specific style estimator block */\n",
              "\n",
              "#sk-container-id-1 div.sk-serial {\n",
              "  display: flex;\n",
              "  flex-direction: column;\n",
              "  align-items: center;\n",
              "  background-color: var(--sklearn-color-background);\n",
              "  padding-right: 1em;\n",
              "  padding-left: 1em;\n",
              "}\n",
              "\n",
              "\n",
              "/* Toggleable style: style used for estimator/Pipeline/ColumnTransformer box that is\n",
              "clickable and can be expanded/collapsed.\n",
              "- Pipeline and ColumnTransformer use this feature and define the default style\n",
              "- Estimators will overwrite some part of the style using the `sk-estimator` class\n",
              "*/\n",
              "\n",
              "/* Pipeline and ColumnTransformer style (default) */\n",
              "\n",
              "#sk-container-id-1 div.sk-toggleable {\n",
              "  /* Default theme specific background. It is overwritten whether we have a\n",
              "  specific estimator or a Pipeline/ColumnTransformer */\n",
              "  background-color: var(--sklearn-color-background);\n",
              "}\n",
              "\n",
              "/* Toggleable label */\n",
              "#sk-container-id-1 label.sk-toggleable__label {\n",
              "  cursor: pointer;\n",
              "  display: flex;\n",
              "  width: 100%;\n",
              "  margin-bottom: 0;\n",
              "  padding: 0.5em;\n",
              "  box-sizing: border-box;\n",
              "  text-align: center;\n",
              "  align-items: start;\n",
              "  justify-content: space-between;\n",
              "  gap: 0.5em;\n",
              "}\n",
              "\n",
              "#sk-container-id-1 label.sk-toggleable__label .caption {\n",
              "  font-size: 0.6rem;\n",
              "  font-weight: lighter;\n",
              "  color: var(--sklearn-color-text-muted);\n",
              "}\n",
              "\n",
              "#sk-container-id-1 label.sk-toggleable__label-arrow:before {\n",
              "  /* Arrow on the left of the label */\n",
              "  content: \"▸\";\n",
              "  float: left;\n",
              "  margin-right: 0.25em;\n",
              "  color: var(--sklearn-color-icon);\n",
              "}\n",
              "\n",
              "#sk-container-id-1 label.sk-toggleable__label-arrow:hover:before {\n",
              "  color: var(--sklearn-color-text);\n",
              "}\n",
              "\n",
              "/* Toggleable content - dropdown */\n",
              "\n",
              "#sk-container-id-1 div.sk-toggleable__content {\n",
              "  max-height: 0;\n",
              "  max-width: 0;\n",
              "  overflow: hidden;\n",
              "  text-align: left;\n",
              "  /* unfitted */\n",
              "  background-color: var(--sklearn-color-unfitted-level-0);\n",
              "}\n",
              "\n",
              "#sk-container-id-1 div.sk-toggleable__content.fitted {\n",
              "  /* fitted */\n",
              "  background-color: var(--sklearn-color-fitted-level-0);\n",
              "}\n",
              "\n",
              "#sk-container-id-1 div.sk-toggleable__content pre {\n",
              "  margin: 0.2em;\n",
              "  border-radius: 0.25em;\n",
              "  color: var(--sklearn-color-text);\n",
              "  /* unfitted */\n",
              "  background-color: var(--sklearn-color-unfitted-level-0);\n",
              "}\n",
              "\n",
              "#sk-container-id-1 div.sk-toggleable__content.fitted pre {\n",
              "  /* unfitted */\n",
              "  background-color: var(--sklearn-color-fitted-level-0);\n",
              "}\n",
              "\n",
              "#sk-container-id-1 input.sk-toggleable__control:checked~div.sk-toggleable__content {\n",
              "  /* Expand drop-down */\n",
              "  max-height: 200px;\n",
              "  max-width: 100%;\n",
              "  overflow: auto;\n",
              "}\n",
              "\n",
              "#sk-container-id-1 input.sk-toggleable__control:checked~label.sk-toggleable__label-arrow:before {\n",
              "  content: \"▾\";\n",
              "}\n",
              "\n",
              "/* Pipeline/ColumnTransformer-specific style */\n",
              "\n",
              "#sk-container-id-1 div.sk-label input.sk-toggleable__control:checked~label.sk-toggleable__label {\n",
              "  color: var(--sklearn-color-text);\n",
              "  background-color: var(--sklearn-color-unfitted-level-2);\n",
              "}\n",
              "\n",
              "#sk-container-id-1 div.sk-label.fitted input.sk-toggleable__control:checked~label.sk-toggleable__label {\n",
              "  background-color: var(--sklearn-color-fitted-level-2);\n",
              "}\n",
              "\n",
              "/* Estimator-specific style */\n",
              "\n",
              "/* Colorize estimator box */\n",
              "#sk-container-id-1 div.sk-estimator input.sk-toggleable__control:checked~label.sk-toggleable__label {\n",
              "  /* unfitted */\n",
              "  background-color: var(--sklearn-color-unfitted-level-2);\n",
              "}\n",
              "\n",
              "#sk-container-id-1 div.sk-estimator.fitted input.sk-toggleable__control:checked~label.sk-toggleable__label {\n",
              "  /* fitted */\n",
              "  background-color: var(--sklearn-color-fitted-level-2);\n",
              "}\n",
              "\n",
              "#sk-container-id-1 div.sk-label label.sk-toggleable__label,\n",
              "#sk-container-id-1 div.sk-label label {\n",
              "  /* The background is the default theme color */\n",
              "  color: var(--sklearn-color-text-on-default-background);\n",
              "}\n",
              "\n",
              "/* On hover, darken the color of the background */\n",
              "#sk-container-id-1 div.sk-label:hover label.sk-toggleable__label {\n",
              "  color: var(--sklearn-color-text);\n",
              "  background-color: var(--sklearn-color-unfitted-level-2);\n",
              "}\n",
              "\n",
              "/* Label box, darken color on hover, fitted */\n",
              "#sk-container-id-1 div.sk-label.fitted:hover label.sk-toggleable__label.fitted {\n",
              "  color: var(--sklearn-color-text);\n",
              "  background-color: var(--sklearn-color-fitted-level-2);\n",
              "}\n",
              "\n",
              "/* Estimator label */\n",
              "\n",
              "#sk-container-id-1 div.sk-label label {\n",
              "  font-family: monospace;\n",
              "  font-weight: bold;\n",
              "  display: inline-block;\n",
              "  line-height: 1.2em;\n",
              "}\n",
              "\n",
              "#sk-container-id-1 div.sk-label-container {\n",
              "  text-align: center;\n",
              "}\n",
              "\n",
              "/* Estimator-specific */\n",
              "#sk-container-id-1 div.sk-estimator {\n",
              "  font-family: monospace;\n",
              "  border: 1px dotted var(--sklearn-color-border-box);\n",
              "  border-radius: 0.25em;\n",
              "  box-sizing: border-box;\n",
              "  margin-bottom: 0.5em;\n",
              "  /* unfitted */\n",
              "  background-color: var(--sklearn-color-unfitted-level-0);\n",
              "}\n",
              "\n",
              "#sk-container-id-1 div.sk-estimator.fitted {\n",
              "  /* fitted */\n",
              "  background-color: var(--sklearn-color-fitted-level-0);\n",
              "}\n",
              "\n",
              "/* on hover */\n",
              "#sk-container-id-1 div.sk-estimator:hover {\n",
              "  /* unfitted */\n",
              "  background-color: var(--sklearn-color-unfitted-level-2);\n",
              "}\n",
              "\n",
              "#sk-container-id-1 div.sk-estimator.fitted:hover {\n",
              "  /* fitted */\n",
              "  background-color: var(--sklearn-color-fitted-level-2);\n",
              "}\n",
              "\n",
              "/* Specification for estimator info (e.g. \"i\" and \"?\") */\n",
              "\n",
              "/* Common style for \"i\" and \"?\" */\n",
              "\n",
              ".sk-estimator-doc-link,\n",
              "a:link.sk-estimator-doc-link,\n",
              "a:visited.sk-estimator-doc-link {\n",
              "  float: right;\n",
              "  font-size: smaller;\n",
              "  line-height: 1em;\n",
              "  font-family: monospace;\n",
              "  background-color: var(--sklearn-color-background);\n",
              "  border-radius: 1em;\n",
              "  height: 1em;\n",
              "  width: 1em;\n",
              "  text-decoration: none !important;\n",
              "  margin-left: 0.5em;\n",
              "  text-align: center;\n",
              "  /* unfitted */\n",
              "  border: var(--sklearn-color-unfitted-level-1) 1pt solid;\n",
              "  color: var(--sklearn-color-unfitted-level-1);\n",
              "}\n",
              "\n",
              ".sk-estimator-doc-link.fitted,\n",
              "a:link.sk-estimator-doc-link.fitted,\n",
              "a:visited.sk-estimator-doc-link.fitted {\n",
              "  /* fitted */\n",
              "  border: var(--sklearn-color-fitted-level-1) 1pt solid;\n",
              "  color: var(--sklearn-color-fitted-level-1);\n",
              "}\n",
              "\n",
              "/* On hover */\n",
              "div.sk-estimator:hover .sk-estimator-doc-link:hover,\n",
              ".sk-estimator-doc-link:hover,\n",
              "div.sk-label-container:hover .sk-estimator-doc-link:hover,\n",
              ".sk-estimator-doc-link:hover {\n",
              "  /* unfitted */\n",
              "  background-color: var(--sklearn-color-unfitted-level-3);\n",
              "  color: var(--sklearn-color-background);\n",
              "  text-decoration: none;\n",
              "}\n",
              "\n",
              "div.sk-estimator.fitted:hover .sk-estimator-doc-link.fitted:hover,\n",
              ".sk-estimator-doc-link.fitted:hover,\n",
              "div.sk-label-container:hover .sk-estimator-doc-link.fitted:hover,\n",
              ".sk-estimator-doc-link.fitted:hover {\n",
              "  /* fitted */\n",
              "  background-color: var(--sklearn-color-fitted-level-3);\n",
              "  color: var(--sklearn-color-background);\n",
              "  text-decoration: none;\n",
              "}\n",
              "\n",
              "/* Span, style for the box shown on hovering the info icon */\n",
              ".sk-estimator-doc-link span {\n",
              "  display: none;\n",
              "  z-index: 9999;\n",
              "  position: relative;\n",
              "  font-weight: normal;\n",
              "  right: .2ex;\n",
              "  padding: .5ex;\n",
              "  margin: .5ex;\n",
              "  width: min-content;\n",
              "  min-width: 20ex;\n",
              "  max-width: 50ex;\n",
              "  color: var(--sklearn-color-text);\n",
              "  box-shadow: 2pt 2pt 4pt #999;\n",
              "  /* unfitted */\n",
              "  background: var(--sklearn-color-unfitted-level-0);\n",
              "  border: .5pt solid var(--sklearn-color-unfitted-level-3);\n",
              "}\n",
              "\n",
              ".sk-estimator-doc-link.fitted span {\n",
              "  /* fitted */\n",
              "  background: var(--sklearn-color-fitted-level-0);\n",
              "  border: var(--sklearn-color-fitted-level-3);\n",
              "}\n",
              "\n",
              ".sk-estimator-doc-link:hover span {\n",
              "  display: block;\n",
              "}\n",
              "\n",
              "/* \"?\"-specific style due to the `<a>` HTML tag */\n",
              "\n",
              "#sk-container-id-1 a.estimator_doc_link {\n",
              "  float: right;\n",
              "  font-size: 1rem;\n",
              "  line-height: 1em;\n",
              "  font-family: monospace;\n",
              "  background-color: var(--sklearn-color-background);\n",
              "  border-radius: 1rem;\n",
              "  height: 1rem;\n",
              "  width: 1rem;\n",
              "  text-decoration: none;\n",
              "  /* unfitted */\n",
              "  color: var(--sklearn-color-unfitted-level-1);\n",
              "  border: var(--sklearn-color-unfitted-level-1) 1pt solid;\n",
              "}\n",
              "\n",
              "#sk-container-id-1 a.estimator_doc_link.fitted {\n",
              "  /* fitted */\n",
              "  border: var(--sklearn-color-fitted-level-1) 1pt solid;\n",
              "  color: var(--sklearn-color-fitted-level-1);\n",
              "}\n",
              "\n",
              "/* On hover */\n",
              "#sk-container-id-1 a.estimator_doc_link:hover {\n",
              "  /* unfitted */\n",
              "  background-color: var(--sklearn-color-unfitted-level-3);\n",
              "  color: var(--sklearn-color-background);\n",
              "  text-decoration: none;\n",
              "}\n",
              "\n",
              "#sk-container-id-1 a.estimator_doc_link.fitted:hover {\n",
              "  /* fitted */\n",
              "  background-color: var(--sklearn-color-fitted-level-3);\n",
              "}\n",
              "</style><div id=\"sk-container-id-1\" class=\"sk-top-container\"><div class=\"sk-text-repr-fallback\"><pre>Pipeline(steps=[(&#x27;tfidf&#x27;,\n",
              "                 TfidfVectorizer(max_df=0.75, min_df=5, ngram_range=(1, 2))),\n",
              "                (&#x27;clf&#x27;, MultinomialNB(alpha=np.float64(0.7000000000000001)))])</pre><b>In a Jupyter environment, please rerun this cell to show the HTML representation or trust the notebook. <br />On GitHub, the HTML representation is unable to render, please try loading this page with nbviewer.org.</b></div><div class=\"sk-container\" hidden><div class=\"sk-item sk-dashed-wrapped\"><div class=\"sk-label-container\"><div class=\"sk-label fitted sk-toggleable\"><input class=\"sk-toggleable__control sk-hidden--visually\" id=\"sk-estimator-id-1\" type=\"checkbox\" ><label for=\"sk-estimator-id-1\" class=\"sk-toggleable__label fitted sk-toggleable__label-arrow\"><div><div>Pipeline</div></div><div><a class=\"sk-estimator-doc-link fitted\" rel=\"noreferrer\" target=\"_blank\" href=\"https://scikit-learn.org/1.6/modules/generated/sklearn.pipeline.Pipeline.html\">?<span>Documentation for Pipeline</span></a><span class=\"sk-estimator-doc-link fitted\">i<span>Fitted</span></span></div></label><div class=\"sk-toggleable__content fitted\"><pre>Pipeline(steps=[(&#x27;tfidf&#x27;,\n",
              "                 TfidfVectorizer(max_df=0.75, min_df=5, ngram_range=(1, 2))),\n",
              "                (&#x27;clf&#x27;, MultinomialNB(alpha=np.float64(0.7000000000000001)))])</pre></div> </div></div><div class=\"sk-serial\"><div class=\"sk-item\"><div class=\"sk-estimator fitted sk-toggleable\"><input class=\"sk-toggleable__control sk-hidden--visually\" id=\"sk-estimator-id-2\" type=\"checkbox\" ><label for=\"sk-estimator-id-2\" class=\"sk-toggleable__label fitted sk-toggleable__label-arrow\"><div><div>TfidfVectorizer</div></div><div><a class=\"sk-estimator-doc-link fitted\" rel=\"noreferrer\" target=\"_blank\" href=\"https://scikit-learn.org/1.6/modules/generated/sklearn.feature_extraction.text.TfidfVectorizer.html\">?<span>Documentation for TfidfVectorizer</span></a></div></label><div class=\"sk-toggleable__content fitted\"><pre>TfidfVectorizer(max_df=0.75, min_df=5, ngram_range=(1, 2))</pre></div> </div></div><div class=\"sk-item\"><div class=\"sk-estimator fitted sk-toggleable\"><input class=\"sk-toggleable__control sk-hidden--visually\" id=\"sk-estimator-id-3\" type=\"checkbox\" ><label for=\"sk-estimator-id-3\" class=\"sk-toggleable__label fitted sk-toggleable__label-arrow\"><div><div>MultinomialNB</div></div><div><a class=\"sk-estimator-doc-link fitted\" rel=\"noreferrer\" target=\"_blank\" href=\"https://scikit-learn.org/1.6/modules/generated/sklearn.naive_bayes.MultinomialNB.html\">?<span>Documentation for MultinomialNB</span></a></div></label><div class=\"sk-toggleable__content fitted\"><pre>MultinomialNB(alpha=np.float64(0.7000000000000001))</pre></div> </div></div></div></div></div></div>"
            ]
          },
          "metadata": {},
          "execution_count": 16
        }
      ]
    },
    {
      "cell_type": "code",
      "source": [
        "random_search.best_params_"
      ],
      "metadata": {
        "colab": {
          "base_uri": "https://localhost:8080/",
          "height": 141
        },
        "collapsed": true,
        "id": "giX78fU8dD6F",
        "outputId": "30d1e927-102e-494a-c136-41ed5bac9ec1"
      },
      "execution_count": null,
      "outputs": [
        {
          "output_type": "error",
          "ename": "NameError",
          "evalue": "name 'random_search' is not defined",
          "traceback": [
            "\u001b[0;31m---------------------------------------------------------------------------\u001b[0m",
            "\u001b[0;31mNameError\u001b[0m                                 Traceback (most recent call last)",
            "\u001b[0;32m/tmp/ipython-input-2-761896934.py\u001b[0m in \u001b[0;36m<cell line: 0>\u001b[0;34m()\u001b[0m\n\u001b[0;32m----> 1\u001b[0;31m \u001b[0mrandom_search\u001b[0m\u001b[0;34m.\u001b[0m\u001b[0mbest_params_\u001b[0m\u001b[0;34m\u001b[0m\u001b[0;34m\u001b[0m\u001b[0m\n\u001b[0m",
            "\u001b[0;31mNameError\u001b[0m: name 'random_search' is not defined"
          ]
        }
      ]
    },
    {
      "cell_type": "code",
      "source": [
        "from sklearn.metrics import classification_report"
      ],
      "metadata": {
        "id": "9X7JoILCchy_"
      },
      "execution_count": null,
      "outputs": []
    },
    {
      "cell_type": "code",
      "source": [
        "print(classification_report(y_test,y_predict))"
      ],
      "metadata": {
        "colab": {
          "base_uri": "https://localhost:8080/"
        },
        "id": "jK5ShJ7acmcu",
        "outputId": "7003eb19-aa82-4a6f-bf85-43aa677521f4"
      },
      "execution_count": null,
      "outputs": [
        {
          "output_type": "stream",
          "name": "stdout",
          "text": [
            "              precision    recall  f1-score   support\n",
            "\n",
            "           0       0.86      0.93      0.90      6940\n",
            "           1       0.90      0.82      0.86      5567\n",
            "\n",
            "    accuracy                           0.88     12507\n",
            "   macro avg       0.88      0.87      0.88     12507\n",
            "weighted avg       0.88      0.88      0.88     12507\n",
            "\n"
          ]
        }
      ]
    },
    {
      "cell_type": "code",
      "source": [
        "pip install gensim scikit-learn nltk"
      ],
      "metadata": {
        "colab": {
          "base_uri": "https://localhost:8080/",
          "height": 810
        },
        "collapsed": true,
        "id": "8BB3od7KSCc-",
        "outputId": "e8f09952-6747-4454-8e60-a8ac1f1a9f70"
      },
      "execution_count": null,
      "outputs": [
        {
          "output_type": "stream",
          "name": "stdout",
          "text": [
            "Collecting gensim\n",
            "  Downloading gensim-4.3.3-cp311-cp311-manylinux_2_17_x86_64.manylinux2014_x86_64.whl.metadata (8.1 kB)\n",
            "Requirement already satisfied: scikit-learn in /usr/local/lib/python3.11/dist-packages (1.6.1)\n",
            "Requirement already satisfied: nltk in /usr/local/lib/python3.11/dist-packages (3.9.1)\n",
            "Collecting numpy<2.0,>=1.18.5 (from gensim)\n",
            "  Downloading numpy-1.26.4-cp311-cp311-manylinux_2_17_x86_64.manylinux2014_x86_64.whl.metadata (61 kB)\n",
            "\u001b[2K     \u001b[90m━━━━━━━━━━━━━━━━━━━━━━━━━━━━━━━━━━━━━━━━\u001b[0m \u001b[32m61.0/61.0 kB\u001b[0m \u001b[31m2.4 MB/s\u001b[0m eta \u001b[36m0:00:00\u001b[0m\n",
            "\u001b[?25hCollecting scipy<1.14.0,>=1.7.0 (from gensim)\n",
            "  Downloading scipy-1.13.1-cp311-cp311-manylinux_2_17_x86_64.manylinux2014_x86_64.whl.metadata (60 kB)\n",
            "\u001b[2K     \u001b[90m━━━━━━━━━━━━━━━━━━━━━━━━━━━━━━━━━━━━━━━━\u001b[0m \u001b[32m60.6/60.6 kB\u001b[0m \u001b[31m4.0 MB/s\u001b[0m eta \u001b[36m0:00:00\u001b[0m\n",
            "\u001b[?25hRequirement already satisfied: smart-open>=1.8.1 in /usr/local/lib/python3.11/dist-packages (from gensim) (7.3.0.post1)\n",
            "Requirement already satisfied: joblib>=1.2.0 in /usr/local/lib/python3.11/dist-packages (from scikit-learn) (1.5.1)\n",
            "Requirement already satisfied: threadpoolctl>=3.1.0 in /usr/local/lib/python3.11/dist-packages (from scikit-learn) (3.6.0)\n",
            "Requirement already satisfied: click in /usr/local/lib/python3.11/dist-packages (from nltk) (8.2.1)\n",
            "Requirement already satisfied: regex>=2021.8.3 in /usr/local/lib/python3.11/dist-packages (from nltk) (2024.11.6)\n",
            "Requirement already satisfied: tqdm in /usr/local/lib/python3.11/dist-packages (from nltk) (4.67.1)\n",
            "Requirement already satisfied: wrapt in /usr/local/lib/python3.11/dist-packages (from smart-open>=1.8.1->gensim) (1.17.2)\n",
            "Downloading gensim-4.3.3-cp311-cp311-manylinux_2_17_x86_64.manylinux2014_x86_64.whl (26.7 MB)\n",
            "\u001b[2K   \u001b[90m━━━━━━━━━━━━━━━━━━━━━━━━━━━━━━━━━━━━━━━━\u001b[0m \u001b[32m26.7/26.7 MB\u001b[0m \u001b[31m40.0 MB/s\u001b[0m eta \u001b[36m0:00:00\u001b[0m\n",
            "\u001b[?25hDownloading numpy-1.26.4-cp311-cp311-manylinux_2_17_x86_64.manylinux2014_x86_64.whl (18.3 MB)\n",
            "\u001b[2K   \u001b[90m━━━━━━━━━━━━━━━━━━━━━━━━━━━━━━━━━━━━━━━━\u001b[0m \u001b[32m18.3/18.3 MB\u001b[0m \u001b[31m64.4 MB/s\u001b[0m eta \u001b[36m0:00:00\u001b[0m\n",
            "\u001b[?25hDownloading scipy-1.13.1-cp311-cp311-manylinux_2_17_x86_64.manylinux2014_x86_64.whl (38.6 MB)\n",
            "\u001b[2K   \u001b[90m━━━━━━━━━━━━━━━━━━━━━━━━━━━━━━━━━━━━━━━━\u001b[0m \u001b[32m38.6/38.6 MB\u001b[0m \u001b[31m13.2 MB/s\u001b[0m eta \u001b[36m0:00:00\u001b[0m\n",
            "\u001b[?25hInstalling collected packages: numpy, scipy, gensim\n",
            "  Attempting uninstall: numpy\n",
            "    Found existing installation: numpy 2.0.2\n",
            "    Uninstalling numpy-2.0.2:\n",
            "      Successfully uninstalled numpy-2.0.2\n",
            "  Attempting uninstall: scipy\n",
            "    Found existing installation: scipy 1.16.0\n",
            "    Uninstalling scipy-1.16.0:\n",
            "      Successfully uninstalled scipy-1.16.0\n",
            "\u001b[31mERROR: pip's dependency resolver does not currently take into account all the packages that are installed. This behaviour is the source of the following dependency conflicts.\n",
            "thinc 8.3.6 requires numpy<3.0.0,>=2.0.0, but you have numpy 1.26.4 which is incompatible.\n",
            "tsfresh 0.21.0 requires scipy>=1.14.0; python_version >= \"3.10\", but you have scipy 1.13.1 which is incompatible.\n",
            "opencv-python 4.12.0.88 requires numpy<2.3.0,>=2; python_version >= \"3.9\", but you have numpy 1.26.4 which is incompatible.\n",
            "opencv-contrib-python 4.12.0.88 requires numpy<2.3.0,>=2; python_version >= \"3.9\", but you have numpy 1.26.4 which is incompatible.\n",
            "opencv-python-headless 4.12.0.88 requires numpy<2.3.0,>=2; python_version >= \"3.9\", but you have numpy 1.26.4 which is incompatible.\u001b[0m\u001b[31m\n",
            "\u001b[0mSuccessfully installed gensim-4.3.3 numpy-1.26.4 scipy-1.13.1\n"
          ]
        },
        {
          "output_type": "display_data",
          "data": {
            "application/vnd.colab-display-data+json": {
              "pip_warning": {
                "packages": [
                  "numpy",
                  "scipy"
                ]
              },
              "id": "b1452f67be3d44f89787989b5ee1455f"
            }
          },
          "metadata": {}
        }
      ]
    },
    {
      "cell_type": "code",
      "source": [
        "import spacy\n",
        "from gensim.models import Word2Vec"
      ],
      "metadata": {
        "id": "BmDi9EqIc6i0"
      },
      "execution_count": null,
      "outputs": []
    },
    {
      "cell_type": "code",
      "source": [
        "new_data[\"clean_text\"][0]"
      ],
      "metadata": {
        "colab": {
          "base_uri": "https://localhost:8080/",
          "height": 140
        },
        "id": "9C7rlDogSBaD",
        "outputId": "838f900d-3a73-46b1-deba-9239314a7aae"
      },
      "execution_count": null,
      "outputs": [
        {
          "output_type": "execute_result",
          "data": {
            "text/plain": [
              "'comment expect barack obama member fukyoflag blacklivesmatter movement call lynching hanging white people cop encourage radio tuesday night turn tide kill white people cop send message killing black people americaone fyoflag organizer call sunshine radio blog host texas call sunshine fing opinion radio snapshot lolatwhitefear twitter page show urge supporter tonight continue dismantle illusion white snapshot twitter radio invite radio air eastern standard timedure caller clearly lynching kill white peoplea minute clip radio hear provide breitbart texas like refer hannibal receive death threat result interrupt conference callsan unidentified black man say mother fker start fe like bunch nier takin roll say cause roll gang seven black mother fcker white person lynch ass let turn table conspire cop start lose people state emergency speculate thing happen bigass war nier go start backin get kill get lose sunshine hear say yep true fking true say need turn table kid get shoot somebody need sacrifice sidehe say everybody ain like everybody different position war continue don say utilize turn table ner say way start lookin like ain havin casualty causality instead kill black people black life don matter mother fker get matter find mother fker snap ass fin hang damn tree picture send mother fker need example people start watchin turn table say say start trickledown effect say white person hang flathange start trickledown effect continue black people good start trend say upperhand black man speak say need kill cop kill black male say good method right breitbart texas previously report sunshine upset racist white people infiltrate disrupt conference call subsequently release phone number infiltrator veteran immediately start receive threaten callsone fyoflag movement supporter allegedly tell veteran infiltrate publicly post conference go rape gut pregnant wife fing piece sht unborn creature hang tree breitbart texas previously encounter sunshine sandra bland protest waller county jail texas say white people kill tell journalist photographer nappyass hair head mean militant negro say protest redneck motherfker murder sandra bland nappy hair like black radical hold imperial power actually responsible terrorist attack september accountable day report breitbart texas website twitter handle movement palmetto star describe head organizer say youtube video supporter burn symbol illusion superiority false white supremacy like american flag british flag police uniform klux klan hoodssierra mcgrone nocturnus libertus post help young afrikan clean rag oppression post photo appear photo black man wipe naked butt american flagfor entire story breitbart news'"
            ],
            "application/vnd.google.colaboratory.intrinsic+json": {
              "type": "string"
            }
          },
          "metadata": {},
          "execution_count": 8
        }
      ]
    },
    {
      "cell_type": "code",
      "source": [
        "nlp = spacy.load(\"en_core_web_sm\")\n",
        "def spacy_tokenizer(text):\n",
        "  doc = nlp(text.lower())\n",
        "  return [token.lemma_ for token in doc if token.is_alpha and not token.is_stop]"
      ],
      "metadata": {
        "id": "u6zsreb9Rmy6"
      },
      "execution_count": null,
      "outputs": []
    },
    {
      "cell_type": "code",
      "source": [
        "tokenized_content = new_data[\"clean_text\"].apply(spacy_tokenizer).tolist()"
      ],
      "metadata": {
        "id": "dmWSqwXdU3eW"
      },
      "execution_count": null,
      "outputs": []
    },
    {
      "cell_type": "code",
      "source": [
        "from gensim.models import Word2Vec\n",
        "\n",
        "w2v_model = Word2Vec(\n",
        "    sentences=tokenized_content,\n",
        "    vector_size=100,\n",
        "    window=5,\n",
        "    min_count=5,\n",
        "    workers=4,\n",
        "    sg=0\n",
        ")"
      ],
      "metadata": {
        "id": "Y3IjAXZNgmAo"
      },
      "execution_count": null,
      "outputs": []
    },
    {
      "cell_type": "code",
      "source": [
        "import numpy as np\n",
        "def get_avg_w2v(tokens, model):\n",
        "    vec = np.zeros(model.vector_size)\n",
        "    count = 0\n",
        "    for word in tokens:\n",
        "        if word in model.wv:\n",
        "            vec += model.wv[word]\n",
        "            count += 1\n",
        "    return vec / count if count > 0 else vec\n",
        "\n",
        "X = np.array([get_avg_w2v(doc, w2v_model) for doc in tokenized_content])"
      ],
      "metadata": {
        "id": "8OiItsMEghYc"
      },
      "execution_count": null,
      "outputs": []
    },
    {
      "cell_type": "code",
      "source": [
        "from sklearn.model_selection import train_test_split\n",
        "x_train,x_test,y_train,y_test = train_test_split(X,new_data[\"label\"],test_size=0.2,random_state=11)"
      ],
      "metadata": {
        "id": "YWDH8SZMgit9"
      },
      "execution_count": null,
      "outputs": []
    },
    {
      "cell_type": "code",
      "source": [
        "import pickle\n",
        "with open(\"tokenized_content.pkl\",'wb') as file:\n",
        "  pickle.dump(tokenized_content,file)"
      ],
      "metadata": {
        "id": "hL6Z3J-8VUkr"
      },
      "execution_count": null,
      "outputs": []
    },
    {
      "cell_type": "code",
      "source": [
        "x_train.shape"
      ],
      "metadata": {
        "colab": {
          "base_uri": "https://localhost:8080/"
        },
        "id": "kkezGS9mmFUw",
        "outputId": "625e3fd0-7c35-448e-908b-28e9ccc06d22"
      },
      "execution_count": null,
      "outputs": [
        {
          "output_type": "execute_result",
          "data": {
            "text/plain": [
              "(50026, 100)"
            ]
          },
          "metadata": {},
          "execution_count": 24
        }
      ]
    },
    {
      "cell_type": "code",
      "source": [
        "from google.colab import drive\n",
        "drive.mount('/content/drive')"
      ],
      "metadata": {
        "colab": {
          "base_uri": "https://localhost:8080/"
        },
        "id": "OcMmwPbTm_RP",
        "outputId": "ad1124f6-fbb6-4a6b-bd2d-0c410aab4656"
      },
      "execution_count": null,
      "outputs": [
        {
          "output_type": "stream",
          "name": "stdout",
          "text": [
            "Mounted at /content/drive\n"
          ]
        }
      ]
    },
    {
      "cell_type": "markdown",
      "source": [
        "# Random Forest Classifier with Word2Vec"
      ],
      "metadata": {
        "id": "w42XXS3UElO0"
      }
    },
    {
      "cell_type": "code",
      "source": [
        "from sklearn.ensemble import RandomForestClassifier\n",
        "from sklearn.model_selection import RandomizedSearchCV\n",
        "from sklearn.metrics import classification_report, roc_auc_score\n",
        "import numpy as np\n",
        "\n",
        "# Define model\n",
        "rf = RandomForestClassifier(random_state=78)\n",
        "\n",
        "# Hyperparameter grid\n",
        "param_dist = {\n",
        "    \"n_estimators\": [100, 200, 300],\n",
        "    \"max_depth\": [None, 10, 20, 30],\n",
        "    \"min_samples_split\": [2, 5, 8],\n",
        "    \"min_samples_leaf\": [1, 2, 4],\n",
        "    \"max_features\": [\"sqrt\", \"log2\"],\n",
        "    \"bootstrap\": [True, False]\n",
        "}\n",
        "\n",
        "# Randomized Search\n",
        "random_search = RandomizedSearchCV(\n",
        "    rf,\n",
        "    param_distributions=param_dist,\n",
        "    n_iter=80,\n",
        "    cv=3,\n",
        "    verbose=2,\n",
        "    n_jobs=-1,\n",
        "    scoring='f1'\n",
        ")\n",
        "\n",
        "# Fit model\n",
        "random_search.fit(x_train, y_train)\n",
        "\n",
        "# Best model\n",
        "best_rf = random_search.best_estimator_\n",
        "\n",
        "print(best_rf)\n"
      ],
      "metadata": {
        "colab": {
          "base_uri": "https://localhost:8080/"
        },
        "id": "M_3eJ8VjnBwJ",
        "outputId": "b6f3cab7-095e-45d4-dc91-a37809900a3a"
      },
      "execution_count": null,
      "outputs": [
        {
          "output_type": "stream",
          "name": "stdout",
          "text": [
            "Fitting 3 folds for each of 80 candidates, totalling 240 fits\n",
            "RandomForestClassifier(bootstrap=False, max_depth=30, n_estimators=300,\n",
            "                       random_state=78)\n"
          ]
        }
      ]
    },
    {
      "cell_type": "code",
      "source": [
        "y_pred = best_rf.predict(x_test)\n",
        "y_proba = best_rf.predict_proba(x_test)[:, 1]"
      ],
      "metadata": {
        "id": "jyWTppVexgll"
      },
      "execution_count": null,
      "outputs": []
    },
    {
      "cell_type": "code",
      "source": [
        "from sklearn.metrics import classification_report, roc_auc_score\n",
        "print(\"Classification Report:\\n\", classification_report(y_test, y_pred))\n",
        "print(\"ROC AUC Score:\", roc_auc_score(y_test, y_proba))"
      ],
      "metadata": {
        "colab": {
          "base_uri": "https://localhost:8080/"
        },
        "id": "qKHkPaYuAC_5",
        "outputId": "92b6ecbf-647e-4b14-efff-8b025a6e2544"
      },
      "execution_count": null,
      "outputs": [
        {
          "output_type": "stream",
          "name": "stdout",
          "text": [
            "Classification Report:\n",
            "               precision    recall  f1-score   support\n",
            "\n",
            "           0       0.89      0.90      0.89      6899\n",
            "           1       0.87      0.86      0.87      5608\n",
            "\n",
            "    accuracy                           0.88     12507\n",
            "   macro avg       0.88      0.88      0.88     12507\n",
            "weighted avg       0.88      0.88      0.88     12507\n",
            "\n",
            "ROC AUC Score: 0.9484096136242532\n"
          ]
        }
      ]
    },
    {
      "cell_type": "code",
      "source": [],
      "metadata": {
        "id": "leJdC3phADsR"
      },
      "execution_count": null,
      "outputs": []
    }
  ],
  "metadata": {
    "kaggle": {
      "accelerator": "none",
      "dataSources": [
        {
          "datasetId": 2093157,
          "sourceId": 6641062,
          "sourceType": "datasetVersion"
        }
      ],
      "dockerImageVersionId": 31089,
      "isGpuEnabled": false,
      "isInternetEnabled": true,
      "language": "python",
      "sourceType": "notebook"
    },
    "kernelspec": {
      "display_name": "Python 3 (ipykernel)",
      "language": "python",
      "name": "python3"
    },
    "language_info": {
      "codemirror_mode": {
        "name": "ipython",
        "version": 3
      },
      "file_extension": ".py",
      "mimetype": "text/x-python",
      "name": "python",
      "nbconvert_exporter": "python",
      "pygments_lexer": "ipython3",
      "version": "3.13.5"
    },
    "colab": {
      "provenance": []
    }
  },
  "nbformat": 4,
  "nbformat_minor": 0
}